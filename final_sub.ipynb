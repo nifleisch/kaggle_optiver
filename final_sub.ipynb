{
  "metadata": {
    "kaggle": {
      "accelerator": "gpu",
      "dataSources": [
        {
          "sourceId": 57891,
          "databundleVersionId": 7056235,
          "sourceType": "competition"
        },
        {
          "sourceId": 7241670,
          "sourceType": "datasetVersion",
          "datasetId": 4194413
        },
        {
          "sourceId": 7241763,
          "sourceType": "datasetVersion",
          "datasetId": 4191924
        }
      ],
      "dockerImageVersionId": 30588,
      "isInternetEnabled": false,
      "language": "python",
      "sourceType": "notebook",
      "isGpuEnabled": true
    },
    "kernelspec": {
      "display_name": "Python 3",
      "language": "python",
      "name": "python3"
    },
    "language_info": {
      "codemirror_mode": {
        "name": "ipython",
        "version": 3
      },
      "file_extension": ".py",
      "mimetype": "text/x-python",
      "name": "python",
      "nbconvert_exporter": "python",
      "pygments_lexer": "ipython3",
      "version": "3.10.12"
    },
    "papermill": {
      "default_parameters": {},
      "duration": 13171.362123,
      "end_time": "2023-12-04T18:19:01.875298",
      "environment_variables": {},
      "exception": null,
      "input_path": "__notebook__.ipynb",
      "output_path": "__notebook__.ipynb",
      "parameters": {},
      "start_time": "2023-12-04T14:39:30.513175",
      "version": "2.4.0"
    },
    "colab": {
      "provenance": []
    }
  },
  "nbformat_minor": 0,
  "nbformat": 4,
  "cells": [
    {
      "cell_type": "markdown",
      "source": [
        "This is a fork of [best-public-score](https://www.kaggle.com/code/peizhengwang/best-public-score) notebook with some tuned hyperparameters for LightGBM model, that result in a slight improvement of LB score: 5.3365 -> 5.3359. All the credits go to the original author @peizhengwang."
      ],
      "metadata": {
        "id": "kA9weWALRebv"
      }
    },
    {
      "cell_type": "code",
      "source": [
        "import gc\n",
        "import os\n",
        "import time\n",
        "import warnings\n",
        "from itertools import combinations\n",
        "from warnings import simplefilter\n",
        "import joblib\n",
        "import lightgbm as lgb\n",
        "import numpy as np\n",
        "import pandas as pd\n",
        "from sklearn.metrics import mean_absolute_error\n",
        "from sklearn.model_selection import KFold, TimeSeriesSplit\n",
        "import polars as pl\n",
        "warnings.filterwarnings(\"ignore\")\n",
        "simplefilter(action=\"ignore\", category=pd.errors.PerformanceWarning)\n",
        "\n",
        "is_offline = False\n",
        "LGB = True\n",
        "\n",
        "is_train = True\n",
        "is_infer = True\n",
        "max_lookback = np.nan\n",
        "split_day = 435"
      ],
      "metadata": {
        "execution": {
          "iopub.status.busy": "2023-12-20T13:53:41.586446Z",
          "iopub.execute_input": "2023-12-20T13:53:41.587143Z",
          "iopub.status.idle": "2023-12-20T13:53:46.449557Z",
          "shell.execute_reply.started": "2023-12-20T13:53:41.587093Z",
          "shell.execute_reply": "2023-12-20T13:53:46.448713Z"
        },
        "trusted": true,
        "id": "_p4zSSwFReby",
        "outputId": "b11f1d30-4d7f-4509-e7b2-d78682b085c5"
      },
      "execution_count": null,
      "outputs": [
        {
          "name": "stderr",
          "text": "/opt/conda/lib/python3.10/site-packages/scipy/__init__.py:146: UserWarning: A NumPy version >=1.16.5 and <1.23.0 is required for this version of SciPy (detected version 1.24.3\n  warnings.warn(f\"A NumPy version >={np_minversion} and <{np_maxversion}\"\n/opt/conda/lib/python3.10/site-packages/dask/dataframe/_pyarrow_compat.py:23: UserWarning: You are using pyarrow version 11.0.0 which is known to be insecure. See https://www.cve.org/CVERecord?id=CVE-2023-47248 for further details. Please upgrade to pyarrow>=14.0.1 or install pyarrow-hotfix to patch your current version.\n  warnings.warn(\n",
          "output_type": "stream"
        }
      ]
    },
    {
      "cell_type": "markdown",
      "source": [
        "# **Utilities**"
      ],
      "metadata": {
        "papermill": {
          "duration": 0.008325,
          "end_time": "2023-12-04T14:39:39.267849",
          "exception": false,
          "start_time": "2023-12-04T14:39:39.259524",
          "status": "completed"
        },
        "tags": [],
        "id": "9dal6VYXReb2"
      }
    },
    {
      "cell_type": "code",
      "source": [
        "!pip install --no-index --no-deps ../input/faiss-gpu-1-7-2-whl/wheelhouse/faiss_gpu-1.7.2-cp310-cp310-manylinux_2_17_x86_64.manylinux2014_x86_64.whl"
      ],
      "metadata": {
        "execution": {
          "iopub.status.busy": "2023-12-20T13:53:46.451263Z",
          "iopub.execute_input": "2023-12-20T13:53:46.451558Z",
          "iopub.status.idle": "2023-12-20T13:53:51.440753Z",
          "shell.execute_reply.started": "2023-12-20T13:53:46.451533Z",
          "shell.execute_reply": "2023-12-20T13:53:51.439567Z"
        },
        "trusted": true,
        "id": "AXNqCnRsReb3",
        "outputId": "d68d82c8-36a6-4825-b461-2e5940694463"
      },
      "execution_count": null,
      "outputs": [
        {
          "name": "stdout",
          "text": "Processing /kaggle/input/faiss-gpu-1-7-2-whl/wheelhouse/faiss_gpu-1.7.2-cp310-cp310-manylinux_2_17_x86_64.manylinux2014_x86_64.whl\nInstalling collected packages: faiss-gpu\nSuccessfully installed faiss-gpu-1.7.2\n",
          "output_type": "stream"
        }
      ]
    },
    {
      "cell_type": "code",
      "source": [
        "from faiss import Kmeans"
      ],
      "metadata": {
        "execution": {
          "iopub.status.busy": "2023-12-20T13:53:51.442632Z",
          "iopub.execute_input": "2023-12-20T13:53:51.443008Z",
          "iopub.status.idle": "2023-12-20T13:53:51.534798Z",
          "shell.execute_reply.started": "2023-12-20T13:53:51.442971Z",
          "shell.execute_reply": "2023-12-20T13:53:51.533846Z"
        },
        "trusted": true,
        "id": "lJevdpq3Reb5"
      },
      "execution_count": null,
      "outputs": []
    },
    {
      "cell_type": "code",
      "source": [
        "def weighted_average(a):\n",
        "    w = []\n",
        "    n = len(a)\n",
        "    for j in range(1, n + 1):\n",
        "        j = 2 if j == 1 else j\n",
        "        w.append(1 / (2**(n + 1 - j)))\n",
        "    return w"
      ],
      "metadata": {
        "papermill": {
          "duration": 0.016548,
          "end_time": "2023-12-04T14:39:39.293238",
          "exception": false,
          "start_time": "2023-12-04T14:39:39.27669",
          "status": "completed"
        },
        "tags": [],
        "execution": {
          "iopub.status.busy": "2023-12-20T13:53:51.537124Z",
          "iopub.execute_input": "2023-12-20T13:53:51.537457Z",
          "iopub.status.idle": "2023-12-20T13:53:51.542929Z",
          "shell.execute_reply.started": "2023-12-20T13:53:51.537433Z",
          "shell.execute_reply": "2023-12-20T13:53:51.541927Z"
        },
        "trusted": true,
        "id": "iLuWSNdDReb5"
      },
      "execution_count": null,
      "outputs": []
    },
    {
      "cell_type": "code",
      "source": [
        "from sklearn.model_selection import KFold\n",
        "from sklearn.model_selection._split import _BaseKFold, indexable, _num_samples\n",
        "from sklearn.utils.validation import _deprecate_positional_args\n",
        "\n",
        "# modified code for group gaps; source\n",
        "# https://github.com/getgaurav2/scikit-learn/blob/d4a3af5cc9da3a76f0266932644b884c99724c57/sklearn/model_selection/_split.py#L2243\n",
        "class PurgedGroupTimeSeriesSplit(_BaseKFold):\n",
        "    \"\"\"Time Series cross-validator variant with non-overlapping groups.\n",
        "    Allows for a gap in groups to avoid potentially leaking info from\n",
        "    train into test if the model has windowed or lag features.\n",
        "    Provides train/test indices to split time series data samples\n",
        "    that are observed at fixed time intervals according to a\n",
        "    third-party provided group.\n",
        "    In each split, test indices must be higher than before, and thus shuffling\n",
        "    in cross validator is inappropriate.\n",
        "    This cross-validation object is a variation of :class:`KFold`.\n",
        "    In the kth split, it returns first k folds as train set and the\n",
        "    (k+1)th fold as test set.\n",
        "    The same group will not appear in two different folds (the number of\n",
        "    distinct groups has to be at least equal to the number of folds).\n",
        "    Note that unlike standard cross-validation methods, successive\n",
        "    training sets are supersets of those that come before them.\n",
        "    Read more in the :ref:`User Guide <cross_validation>`.\n",
        "    Parameters\n",
        "    ----------\n",
        "    n_splits : int, default=5\n",
        "        Number of splits. Must be at least 2.\n",
        "    max_train_group_size : int, default=Inf\n",
        "        Maximum group size for a single training set.\n",
        "    group_gap : int, default=None\n",
        "        Gap between train and test\n",
        "    max_test_group_size : int, default=Inf\n",
        "        We discard this number of groups from the end of each train split\n",
        "    \"\"\"\n",
        "\n",
        "    @_deprecate_positional_args\n",
        "    def __init__(self,\n",
        "                 n_splits=5,\n",
        "                 *,\n",
        "                 max_train_group_size=np.inf,\n",
        "                 max_test_group_size=np.inf,\n",
        "                 group_gap=None,\n",
        "                 verbose=False\n",
        "                 ):\n",
        "        super().__init__(n_splits, shuffle=False, random_state=None)\n",
        "        self.max_train_group_size = max_train_group_size\n",
        "        self.group_gap = group_gap\n",
        "        self.max_test_group_size = max_test_group_size\n",
        "        self.verbose = verbose\n",
        "\n",
        "    def split(self, X, y=None, groups=None):\n",
        "        \"\"\"Generate indices to split data into training and test set.\n",
        "        Parameters\n",
        "        ----------\n",
        "        X : array-like of shape (n_samples, n_features)\n",
        "            Training data, where n_samples is the number of samples\n",
        "            and n_features is the number of features.\n",
        "        y : array-like of shape (n_samples,)\n",
        "            Always ignored, exists for compatibility.\n",
        "        groups : array-like of shape (n_samples,)\n",
        "            Group labels for the samples used while splitting the dataset into\n",
        "            train/test set.\n",
        "        Yields\n",
        "        ------\n",
        "        train : ndarray\n",
        "            The training set indices for that split.\n",
        "        test : ndarray\n",
        "            The testing set indices for that split.\n",
        "        \"\"\"\n",
        "        if groups is None:\n",
        "            raise ValueError(\n",
        "                \"The 'groups' parameter should not be None\")\n",
        "        X, y, groups = indexable(X, y, groups)\n",
        "        n_samples = _num_samples(X)\n",
        "        n_splits = self.n_splits\n",
        "        group_gap = self.group_gap\n",
        "        max_test_group_size = self.max_test_group_size\n",
        "        max_train_group_size = self.max_train_group_size\n",
        "        n_folds = n_splits + 1\n",
        "        group_dict = {}\n",
        "        u, ind = np.unique(groups, return_index=True)\n",
        "        unique_groups = u[np.argsort(ind)]\n",
        "        n_samples = _num_samples(X)\n",
        "        n_groups = _num_samples(unique_groups)\n",
        "        for idx in np.arange(n_samples):\n",
        "            if (groups[idx] in group_dict):\n",
        "                group_dict[groups[idx]].append(idx)\n",
        "            else:\n",
        "                group_dict[groups[idx]] = [idx]\n",
        "        if n_folds > n_groups:\n",
        "            raise ValueError(\n",
        "                (\"Cannot have number of folds={0} greater than\"\n",
        "                 \" the number of groups={1}\").format(n_folds,\n",
        "                                                     n_groups))\n",
        "\n",
        "        group_test_size = min(n_groups // n_folds, max_test_group_size)\n",
        "        group_test_starts = range(n_groups - n_splits * group_test_size,\n",
        "                                  n_groups, group_test_size)\n",
        "        for group_test_start in group_test_starts:\n",
        "            train_array = []\n",
        "            test_array = []\n",
        "\n",
        "            group_st = max(0, group_test_start - group_gap - max_train_group_size)\n",
        "            for train_group_idx in unique_groups[group_st:(group_test_start - group_gap)]:\n",
        "                train_array_tmp = group_dict[train_group_idx]\n",
        "\n",
        "                train_array = np.sort(np.unique(\n",
        "                                      np.concatenate((train_array,\n",
        "                                                      train_array_tmp)),\n",
        "                                      axis=None), axis=None)\n",
        "\n",
        "            train_end = train_array.size\n",
        "\n",
        "            for test_group_idx in unique_groups[group_test_start:\n",
        "                                                group_test_start +\n",
        "                                                group_test_size]:\n",
        "                test_array_tmp = group_dict[test_group_idx]\n",
        "                test_array = np.sort(np.unique(\n",
        "                                              np.concatenate((test_array,\n",
        "                                                              test_array_tmp)),\n",
        "                                     axis=None), axis=None)\n",
        "\n",
        "            test_array  = test_array[group_gap:]\n",
        "\n",
        "\n",
        "            if self.verbose > 0:\n",
        "                    pass\n",
        "\n",
        "            yield [int(i) for i in train_array], [int(i) for i in test_array]"
      ],
      "metadata": {
        "papermill": {
          "duration": 0.029039,
          "end_time": "2023-12-04T14:39:39.330725",
          "exception": false,
          "start_time": "2023-12-04T14:39:39.301686",
          "status": "completed"
        },
        "tags": [],
        "execution": {
          "iopub.status.busy": "2023-12-20T13:53:51.544269Z",
          "iopub.execute_input": "2023-12-20T13:53:51.544548Z",
          "iopub.status.idle": "2023-12-20T13:53:51.566999Z",
          "shell.execute_reply.started": "2023-12-20T13:53:51.544511Z",
          "shell.execute_reply": "2023-12-20T13:53:51.566046Z"
        },
        "trusted": true,
        "id": "MiONffBPReb7"
      },
      "execution_count": null,
      "outputs": []
    },
    {
      "cell_type": "code",
      "source": [
        "def reduce_mem_usage(df, verbose=0):\n",
        "    start_mem = df.memory_usage().sum() / 1024**2\n",
        "    for col in df.columns:\n",
        "        col_type = df[col].dtype\n",
        "        if col_type != object:\n",
        "            c_min = df[col].min()\n",
        "            c_max = df[col].max()\n",
        "\n",
        "            if str(col_type)[:3] == \"int\":\n",
        "                if c_min > np.iinfo(np.int8).min and c_max < np.iinfo(np.int8).max:\n",
        "                    df[col] = df[col].astype(np.int8)\n",
        "                elif c_min > np.iinfo(np.int16).min and c_max < np.iinfo(np.int16).max:\n",
        "                    df[col] = df[col].astype(np.int16)\n",
        "                elif c_min > np.iinfo(np.int32).min and c_max < np.iinfo(np.int32).max:\n",
        "                    df[col] = df[col].astype(np.int32)\n",
        "                elif c_min > np.iinfo(np.int64).min and c_max < np.iinfo(np.int64).max:\n",
        "                    df[col] = df[col].astype(np.int64)\n",
        "            else:\n",
        "\n",
        "                if c_min > np.finfo(np.float16).min and c_max < np.finfo(np.float16).max:\n",
        "                    df[col] = df[col].astype(np.float32)\n",
        "                elif c_min > np.finfo(np.float32).min and c_max < np.finfo(np.float32).max:\n",
        "                    df[col] = df[col].astype(np.float32)\n",
        "                else:\n",
        "                    df[col] = df[col].astype(np.float32)\n",
        "    if verbose:\n",
        "        logger.info(f\"Memory usage of dataframe is {start_mem:.2f} MB\")\n",
        "        end_mem = df.memory_usage().sum() / 1024**2\n",
        "        logger.info(f\"Memory usage after optimization is: {end_mem:.2f} MB\")\n",
        "        decrease = 100 * (start_mem - end_mem) / start_mem\n",
        "        logger.info(f\"Decreased by {decrease:.2f}%\")\n",
        "    return df\n"
      ],
      "metadata": {
        "papermill": {
          "duration": 0.022607,
          "end_time": "2023-12-04T14:39:39.362044",
          "exception": false,
          "start_time": "2023-12-04T14:39:39.339437",
          "status": "completed"
        },
        "tags": [],
        "execution": {
          "iopub.status.busy": "2023-12-20T13:53:51.568334Z",
          "iopub.execute_input": "2023-12-20T13:53:51.568664Z",
          "iopub.status.idle": "2023-12-20T13:53:51.586616Z",
          "shell.execute_reply.started": "2023-12-20T13:53:51.568633Z",
          "shell.execute_reply": "2023-12-20T13:53:51.585602Z"
        },
        "trusted": true,
        "id": "YU0CrxwlReb8"
      },
      "execution_count": null,
      "outputs": []
    },
    {
      "cell_type": "markdown",
      "source": [
        "# Data Loading\n",
        "\n",
        "\n",
        "\n",
        "\n"
      ],
      "metadata": {
        "papermill": {
          "duration": 0.008371,
          "end_time": "2023-12-04T14:39:39.378789",
          "exception": false,
          "start_time": "2023-12-04T14:39:39.370418",
          "status": "completed"
        },
        "tags": [],
        "id": "KOTAX6l3Reb9"
      }
    },
    {
      "cell_type": "code",
      "source": [
        "def unchanged_features(df):\n",
        "    df[\"week_id\"] = df[\"date_id\"] // 5\n",
        "    df_total = (df.groupby('stock_id').agg(std_target_total = ('target', 'std'),).reset_index())\n",
        "    df_daily = (df.groupby(['stock_id', 'date_id']).agg(std_target_daily = ('target', 'std')).reset_index()\n",
        "                ).groupby('stock_id').agg(std_target_daily = ('std_target_daily', 'mean')).reset_index()\n",
        "    df_weekly = (df.groupby(['stock_id', 'week_id']).agg(std_target_weekly = ('target', 'std')).reset_index()\n",
        "                 ).groupby('stock_id').agg(std_target_weekly = ('std_target_weekly', 'mean')).reset_index()\n",
        "    df.pop('week_id')\n",
        "    return df_total, df_daily, df_weekly"
      ],
      "metadata": {
        "execution": {
          "iopub.status.busy": "2023-12-20T13:53:51.588077Z",
          "iopub.execute_input": "2023-12-20T13:53:51.588433Z",
          "iopub.status.idle": "2023-12-20T13:53:51.603271Z",
          "shell.execute_reply.started": "2023-12-20T13:53:51.588401Z",
          "shell.execute_reply": "2023-12-20T13:53:51.602245Z"
        },
        "trusted": true,
        "id": "mUPEHkirReb_"
      },
      "execution_count": null,
      "outputs": []
    },
    {
      "cell_type": "code",
      "source": [
        "df = pd.read_csv(\"/kaggle/input/optiver-trading-at-the-close/train.csv\")\n",
        "df = df.dropna(subset=[\"target\"])\n",
        "df.reset_index(drop=True, inplace=True)\n",
        "df_shape = df.shape\n",
        "df.pop('row_id')\n",
        "df.pop('time_id')\n",
        "df_total, df_daily, df_weekly = unchanged_features(df)"
      ],
      "metadata": {
        "papermill": {
          "duration": 21.61866,
          "end_time": "2023-12-04T14:40:01.005792",
          "exception": false,
          "start_time": "2023-12-04T14:39:39.387132",
          "status": "completed"
        },
        "tags": [],
        "execution": {
          "iopub.status.busy": "2023-12-20T13:53:51.604649Z",
          "iopub.execute_input": "2023-12-20T13:53:51.605005Z",
          "iopub.status.idle": "2023-12-20T13:54:11.789370Z",
          "shell.execute_reply.started": "2023-12-20T13:53:51.604958Z",
          "shell.execute_reply": "2023-12-20T13:54:11.788332Z"
        },
        "trusted": true,
        "id": "Hu1BKKizReb_"
      },
      "execution_count": null,
      "outputs": []
    },
    {
      "cell_type": "markdown",
      "source": [
        "**Outlier removal**"
      ],
      "metadata": {
        "papermill": {
          "duration": 0.008585,
          "end_time": "2023-12-04T14:40:01.023896",
          "exception": false,
          "start_time": "2023-12-04T14:40:01.015311",
          "status": "completed"
        },
        "tags": [],
        "id": "c8rMLKfqRecA"
      }
    },
    {
      "cell_type": "markdown",
      "source": [
        " # Parallel Triplet Imbalance Calculation"
      ],
      "metadata": {
        "papermill": {
          "duration": 0.011443,
          "end_time": "2023-12-04T14:40:01.07117",
          "exception": false,
          "start_time": "2023-12-04T14:40:01.059727",
          "status": "completed"
        },
        "tags": [],
        "id": "gK6HiOrlRecB"
      }
    },
    {
      "cell_type": "code",
      "source": [
        "from numba import njit, prange\n",
        "\n",
        "@njit(parallel=True)\n",
        "def compute_triplet_imbalance(df_values, comb_indices):\n",
        "    num_rows = df_values.shape[0]\n",
        "    num_combinations = len(comb_indices)\n",
        "    imbalance_features = np.empty((num_rows, num_combinations))\n",
        "    for i in prange(num_combinations):\n",
        "        a, b, c = comb_indices[i]\n",
        "        for j in range(num_rows):\n",
        "            max_val = max(df_values[j, a], df_values[j, b], df_values[j, c])\n",
        "            min_val = min(df_values[j, a], df_values[j, b], df_values[j, c])\n",
        "            mid_val = df_values[j, a] + df_values[j, b] + df_values[j, c] - min_val - max_val\n",
        "\n",
        "            if mid_val == min_val:\n",
        "                imbalance_features[j, i] = np.nan\n",
        "            else:\n",
        "                imbalance_features[j, i] = (max_val - mid_val) / (mid_val - min_val)\n",
        "\n",
        "    return imbalance_features\n",
        "\n",
        "def calculate_triplet_imbalance_numba(price, df):\n",
        "    df_values = df[price].values\n",
        "    comb_indices = [(price.index(a), price.index(b), price.index(c)) for a, b, c in combinations(price, 3)]\n",
        "    features_array = compute_triplet_imbalance(df_values, comb_indices)\n",
        "    columns = [f\"{a}_{b}_{c}_imb2\" for a, b, c in combinations(price, 3)]\n",
        "    features = pd.DataFrame(features_array, columns=columns)\n",
        "    return features\n"
      ],
      "metadata": {
        "papermill": {
          "duration": 0.638007,
          "end_time": "2023-12-04T14:40:01.719082",
          "exception": false,
          "start_time": "2023-12-04T14:40:01.081075",
          "status": "completed"
        },
        "tags": [],
        "execution": {
          "iopub.status.busy": "2023-12-20T13:54:11.790621Z",
          "iopub.execute_input": "2023-12-20T13:54:11.790908Z",
          "iopub.status.idle": "2023-12-20T13:54:12.362141Z",
          "shell.execute_reply.started": "2023-12-20T13:54:11.790883Z",
          "shell.execute_reply": "2023-12-20T13:54:12.361063Z"
        },
        "trusted": true,
        "id": "DveP6eMTRecB"
      },
      "execution_count": null,
      "outputs": []
    },
    {
      "cell_type": "markdown",
      "source": [
        "# Feature Generation Functions"
      ],
      "metadata": {
        "papermill": {
          "duration": 0.008802,
          "end_time": "2023-12-04T14:40:01.737357",
          "exception": false,
          "start_time": "2023-12-04T14:40:01.728555",
          "status": "completed"
        },
        "tags": [],
        "id": "XMDVOD37RecB"
      }
    },
    {
      "cell_type": "code",
      "source": [
        "def imbalance_features(df):\n",
        "    # Define lists of price and size-related column names\n",
        "    prices = [\"reference_price\", \"far_price\", \"near_price\", \"ask_price\", \"bid_price\", \"wap\"]\n",
        "    sizes = [\"matched_size\", \"bid_size\", \"ask_size\", \"imbalance_size\"]\n",
        "\n",
        "    df[\"volume\"] = df.eval(\"ask_size + bid_size\")\n",
        "    df[\"mid_price\"] = df.eval(\"(ask_price + bid_price) / 2\")\n",
        "    df[\"liquidity_imbalance\"] = df.eval(\"(bid_size-ask_size)/(bid_size+ask_size)\")\n",
        "    df[\"matched_imbalance\"] = df.eval(\"(imbalance_size-matched_size)/(matched_size+imbalance_size)\")\n",
        "    df[\"size_imbalance\"] = df.eval(\"bid_size / ask_size\")\n",
        "\n",
        "    for c in combinations(prices, 2):\n",
        "        df[f\"{c[0]}_{c[1]}_imb\"] = df.eval(f\"({c[0]} - {c[1]})/({c[0]} + {c[1]})\")\n",
        "\n",
        "    for c in [['ask_price', 'bid_price', 'wap', 'reference_price'], sizes]:\n",
        "        triplet_feature = calculate_triplet_imbalance_numba(c, df)\n",
        "        df[triplet_feature.columns] = triplet_feature.values\n",
        "\n",
        "    df[\"stock_weights\"] = df[\"stock_id\"].map(weights)\n",
        "    df[\"weighted_wap\"] = df[\"stock_weights\"] * df[\"wap\"]\n",
        "    df['wap_momentum'] = df.groupby('stock_id')['weighted_wap'].pct_change(periods=6)\n",
        "\n",
        "    df[\"imbalance_momentum\"] = df.groupby(['stock_id'])['imbalance_size'].diff(periods=1) / df['matched_size']\n",
        "    df[\"price_spread\"] = df[\"ask_price\"] - df[\"bid_price\"]\n",
        "    df[\"spread_intensity\"] = df.groupby(['stock_id'])['price_spread'].diff()\n",
        "    df['price_pressure'] = df['imbalance_size'] * (df['ask_price'] - df['bid_price'])\n",
        "    df['market_urgency'] = df['price_spread'] * df['liquidity_imbalance']\n",
        "    df['depth_pressure'] = (df['ask_size'] - df['bid_size']) * (df['far_price'] - df['near_price'])\n",
        "\n",
        "    df['spread_depth_ratio'] = (df['ask_price'] - df['bid_price']) / (df['bid_size'] + df['ask_size'])\n",
        "    df['mid_price_movement'] = df['mid_price'].diff(periods=5).apply(lambda x: 1 if x > 0 else (-1 if x < 0 else 0))\n",
        "\n",
        "    df['micro_price'] = ((df['bid_price'] * df['ask_size']) + (df['ask_price'] * df['bid_size'])) / (df['bid_size'] + df['ask_size'])\n",
        "    df['relative_spread'] = (df['ask_price'] - df['bid_price']) / df['wap']\n",
        "\n",
        "    # Calculate various statistical aggregation features\n",
        "    for func in [\"mean\", \"std\", \"skew\", \"kurt\"]:\n",
        "        df[f\"all_prices_{func}\"] = df[prices].agg(func, axis=1)\n",
        "        df[f\"all_sizes_{func}\"] = df[sizes].agg(func, axis=1)\n",
        "\n",
        "\n",
        "    for col in ['matched_size', 'imbalance_size', 'reference_price', 'imbalance_buy_sell_flag']:\n",
        "        for window in [1,3,5,10]:\n",
        "            df[f\"{col}_shift_{window}\"] = df.groupby('stock_id')[col].shift(window)\n",
        "            df[f\"{col}_ret_{window}\"] = df.groupby('stock_id')[col].pct_change(window)\n",
        "\n",
        "    # Calculate diff features for specific columns\n",
        "    for col in ['ask_price', 'bid_price', 'ask_size', 'bid_size', 'weighted_wap','price_spread']:\n",
        "        for window in [1,3,5,10]:\n",
        "            df[f\"{col}_diff_{window}\"] = df.groupby(\"stock_id\")[col].diff(window)\n",
        "\n",
        "    #V4 feature\n",
        "    for window in [3,5,10]:\n",
        "        df[f'price_change_diff_{window}'] = df[f'bid_price_diff_{window}'] - df[f'ask_price_diff_{window}']\n",
        "        df[f'size_change_diff_{window}'] = df[f'bid_size_diff_{window}'] - df[f'ask_size_diff_{window}']\n",
        "\n",
        "    #V5 - rolling diff\n",
        "    # Convert from pandas to Polars\n",
        "    pl_df = pl.from_pandas(df)\n",
        "\n",
        "    #Define the windows and columns for which you want to calculate the rolling statistics\n",
        "    windows = [3, 5, 10]\n",
        "    columns = ['ask_price', 'bid_price', 'ask_size', 'bid_size']\n",
        "\n",
        "    # prepare the operations for each column and window\n",
        "    group = [\"stock_id\"]\n",
        "    expressions = []\n",
        "\n",
        "    # Loop over each window and column to create the rolling mean and std expressions\n",
        "    for window in windows:\n",
        "        for col in columns:\n",
        "            rolling_mean_expr = (\n",
        "                pl.col(f\"{col}_diff_{window}\")\n",
        "                .rolling_mean(window)\n",
        "                .over(group)\n",
        "                .alias(f'rolling_diff_{col}_{window}')\n",
        "            )\n",
        "\n",
        "            rolling_std_expr = (\n",
        "                pl.col(f\"{col}_diff_{window}\")\n",
        "                .rolling_std(window)\n",
        "                .over(group)\n",
        "                .alias(f'rolling_std_diff_{col}_{window}')\n",
        "            )\n",
        "\n",
        "            expressions.append(rolling_mean_expr)\n",
        "            expressions.append(rolling_std_expr)\n",
        "\n",
        "    # Run the operations using Polars' lazy API\n",
        "    lazy_df = pl_df.lazy().with_columns(expressions)\n",
        "\n",
        "    # Execute the lazy expressions and overwrite the pl_df variable\n",
        "    pl_df = lazy_df.collect()\n",
        "\n",
        "    # Convert back to pandas if necessary\n",
        "    df = pl_df.to_pandas()\n",
        "    gc.collect()\n",
        "\n",
        "    df['mid_price*volume'] = df['mid_price_movement'] * df['volume']\n",
        "    df['harmonic_imbalance'] = df.eval('2 / ((1 / bid_size) + (1 / ask_size))')\n",
        "\n",
        "    for col in df.columns:\n",
        "        df[col] = df[col].replace([np.inf, -np.inf], 0)\n",
        "\n",
        "    return df\n",
        "\n",
        "\n",
        "def other_features(df, train = False):\n",
        "    df[\"dow\"] = df[\"date_id\"] % 5  # Day of the week\n",
        "    df[\"seconds\"] = df[\"seconds_in_bucket\"] % 60\n",
        "    df[\"minute\"] = df[\"seconds_in_bucket\"] // 60\n",
        "    df['time_to_market_close'] = 540 - df['seconds_in_bucket']\n",
        "\n",
        "    df_1 = df_total.copy()\n",
        "    df_2 = df_daily.copy()\n",
        "    df_3 = df_weekly.copy()\n",
        "\n",
        "    df_agg = df_1.merge(df_2, on=['stock_id'], how='left').merge(df_3, on=['stock_id'], how='left')\n",
        "    df = df.merge(df_agg, on=['stock_id'], how='left')\n",
        "\n",
        "\n",
        "\n",
        "    for key, value in global_stock_id_feats.items():\n",
        "        df[f\"global_{key}\"] = df[\"stock_id\"].map(value.to_dict())\n",
        "    fill_values = df[['stock_id', 'bid_size', 'ask_price']].median(skipna=True)\n",
        "    df[['stock_id', 'bid_size', 'ask_price']] = df[['stock_id', 'bid_size', 'ask_price']].fillna(fill_values)\n",
        "\n",
        "    if train:\n",
        "        extra_df1 = (\n",
        "                df.query('date_id<= 480//2')\n",
        "                .groupby(['date_id', 'seconds_in_bucket'])[['stock_id' ,'bid_size', 'ask_price']] #  group by'stock_id',\n",
        "                .apply(kmeans_faiss_train, \"price_cluster\", k=4, gpu=True)\n",
        "                )\n",
        "        gc.collect()\n",
        "        extra_df2= (\n",
        "                df.query('date_id> 480//2')\n",
        "                .groupby(['date_id', 'seconds_in_bucket'])[['stock_id' ,'bid_size', 'ask_price']] #  group by'stock_id',\n",
        "                .apply(kmeans_faiss_train, \"price_cluster\", k=4, gpu=True)\n",
        "                )\n",
        "        extra_df = pd.concat([extra_df1, extra_df2], ignore_index=True)\n",
        "        gc.collect()\n",
        "        extra_df.index = df.index\n",
        "\n",
        "        gc.collect()\n",
        "        df = df.join(extra_df)\n",
        "        print(df)\n",
        "    else:\n",
        "        extra_df1 = (\n",
        "                df\n",
        "                .groupby('date_id')[['stock_id', 'bid_size', 'ask_price']] #  group by\n",
        "                .apply(kmeans_faiss, \"price_cluster\", k=2, gpu=True)\n",
        "                )\n",
        "\n",
        "        extra_df1.index = df.index\n",
        "\n",
        "        gc.collect()\n",
        "        df = df.join(extra_df1)\n",
        "\n",
        "    return df\n",
        "\n",
        "def generate_all_features(df, train = False):\n",
        "    # Select relevant columns for feature generation\n",
        "    cols = [c for c in df.columns if c not in [\"row_id\", \"time_id\", \"target\"]]\n",
        "    df = df[cols]\n",
        "\n",
        "    # Generate imbalance features\n",
        "    df = imbalance_features(df)\n",
        "    gc.collect()\n",
        "    df = other_features(df, train)\n",
        "    gc.collect()\n",
        "    feature_name = [i for i in df.columns if i not in [\"row_id\", \"target\", \"time_id\", \"date_id\"]]\n",
        "\n",
        "    return df[feature_name]\n",
        "\n",
        "def kmeans_faiss(group, cluster_name, k=4, gpu = True):\n",
        "    features = group.drop(columns=['stock_id'])\n",
        "    kmeans = Kmeans(d = group.shape[1]-1, k=k, gpu = gpu)\n",
        "    features_array = np.ascontiguousarray(features.values.astype('float32'))\n",
        "    kmeans.train(features_array)\n",
        "    D, I = kmeans.index.search(features_array, 1)\n",
        "    result_df = pd.DataFrame({cluster_name: I.flatten()},index = group.index)\n",
        "    return result_df\n",
        "\n",
        "def kmeans_faiss_train(group, cluster_name, k=4, gpu = True):\n",
        "    features = group.drop(columns=['stock_id'])\n",
        "    kmeans = Kmeans(d = group.shape[1]-1, k=k, gpu = gpu)\n",
        "    features_array = np.ascontiguousarray(features.values.astype('float32'))\n",
        "    kmeans.train(features_array)\n",
        "    D, I = kmeans.index.search(features_array, 1)\n",
        "    result_df = pd.DataFrame({cluster_name: I.flatten()},index = group.index)\n",
        "    return result_df"
      ],
      "metadata": {
        "papermill": {
          "duration": 0.045436,
          "end_time": "2023-12-04T14:40:01.791348",
          "exception": false,
          "start_time": "2023-12-04T14:40:01.745912",
          "status": "completed"
        },
        "tags": [],
        "execution": {
          "iopub.status.busy": "2023-12-20T13:54:12.366122Z",
          "iopub.execute_input": "2023-12-20T13:54:12.366640Z",
          "iopub.status.idle": "2023-12-20T13:54:12.404431Z",
          "shell.execute_reply.started": "2023-12-20T13:54:12.366610Z",
          "shell.execute_reply": "2023-12-20T13:54:12.403485Z"
        },
        "trusted": true,
        "id": "24uVt1D-RecC"
      },
      "execution_count": null,
      "outputs": []
    },
    {
      "cell_type": "code",
      "source": [
        "weights = [\n",
        "    0.004, 0.001, 0.002, 0.006, 0.004, 0.004, 0.002, 0.006, 0.006, 0.002, 0.002, 0.008,\n",
        "    0.006, 0.002, 0.008, 0.006, 0.002, 0.006, 0.004, 0.002, 0.004, 0.001, 0.006, 0.004,\n",
        "    0.002, 0.002, 0.004, 0.002, 0.004, 0.004, 0.001, 0.001, 0.002, 0.002, 0.006, 0.004,\n",
        "    0.004, 0.004, 0.006, 0.002, 0.002, 0.04 , 0.002, 0.002, 0.004, 0.04 , 0.002, 0.001,\n",
        "    0.006, 0.004, 0.004, 0.006, 0.001, 0.004, 0.004, 0.002, 0.006, 0.004, 0.006, 0.004,\n",
        "    0.006, 0.004, 0.002, 0.001, 0.002, 0.004, 0.002, 0.008, 0.004, 0.004, 0.002, 0.004,\n",
        "    0.006, 0.002, 0.004, 0.004, 0.002, 0.004, 0.004, 0.004, 0.001, 0.002, 0.002, 0.008,\n",
        "    0.02 , 0.004, 0.006, 0.002, 0.02 , 0.002, 0.002, 0.006, 0.004, 0.002, 0.001, 0.02,\n",
        "    0.006, 0.001, 0.002, 0.004, 0.001, 0.002, 0.006, 0.006, 0.004, 0.006, 0.001, 0.002,\n",
        "    0.004, 0.006, 0.006, 0.001, 0.04 , 0.006, 0.002, 0.004, 0.002, 0.002, 0.006, 0.002,\n",
        "    0.002, 0.004, 0.006, 0.006, 0.002, 0.002, 0.008, 0.006, 0.004, 0.002, 0.006, 0.002,\n",
        "    0.004, 0.006, 0.002, 0.004, 0.001, 0.004, 0.002, 0.004, 0.008, 0.006, 0.008, 0.002,\n",
        "    0.004, 0.002, 0.001, 0.004, 0.004, 0.004, 0.006, 0.008, 0.004, 0.001, 0.001, 0.002,\n",
        "    0.006, 0.004, 0.001, 0.002, 0.006, 0.004, 0.006, 0.008, 0.002, 0.002, 0.004, 0.002,\n",
        "    0.04 , 0.002, 0.002, 0.004, 0.002, 0.002, 0.006, 0.02 , 0.004, 0.002, 0.006, 0.02,\n",
        "    0.001, 0.002, 0.006, 0.004, 0.006, 0.004, 0.004, 0.004, 0.004, 0.002, 0.004, 0.04,\n",
        "    0.002, 0.008, 0.002, 0.004, 0.001, 0.004, 0.006, 0.004,\n",
        "]\n",
        "weights = {int(k):v for k,v in enumerate(weights)}"
      ],
      "metadata": {
        "papermill": {
          "duration": 0.02351,
          "end_time": "2023-12-04T14:40:01.823334",
          "exception": false,
          "start_time": "2023-12-04T14:40:01.799824",
          "status": "completed"
        },
        "tags": [],
        "execution": {
          "iopub.status.busy": "2023-12-20T13:54:12.405575Z",
          "iopub.execute_input": "2023-12-20T13:54:12.405877Z",
          "iopub.status.idle": "2023-12-20T13:54:12.419651Z",
          "shell.execute_reply.started": "2023-12-20T13:54:12.405852Z",
          "shell.execute_reply": "2023-12-20T13:54:12.418857Z"
        },
        "trusted": true,
        "id": "cYHZ6zJFRecD"
      },
      "execution_count": null,
      "outputs": []
    },
    {
      "cell_type": "markdown",
      "source": [
        "## Data Splitting"
      ],
      "metadata": {
        "papermill": {
          "duration": 0.008506,
          "end_time": "2023-12-04T14:40:01.840282",
          "exception": false,
          "start_time": "2023-12-04T14:40:01.831776",
          "status": "completed"
        },
        "tags": [],
        "id": "PAjMEGsyRecD"
      }
    },
    {
      "cell_type": "code",
      "source": [
        "if is_offline:\n",
        "\n",
        "    df_train = df[df[\"date_id\"] <= split_day]\n",
        "    df_valid = df[df[\"date_id\"] > split_day]\n",
        "    print(\"Offline mode\")\n",
        "    print(f\"train : {df_train.shape}, valid : {df_valid.shape}\")\n",
        "\n",
        "else:\n",
        "    df_train = df\n",
        "    print(\"Online mode\")\n"
      ],
      "metadata": {
        "papermill": {
          "duration": 0.016367,
          "end_time": "2023-12-04T14:40:01.865168",
          "exception": false,
          "start_time": "2023-12-04T14:40:01.848801",
          "status": "completed"
        },
        "tags": [],
        "execution": {
          "iopub.status.busy": "2023-12-20T13:54:12.420708Z",
          "iopub.execute_input": "2023-12-20T13:54:12.420962Z",
          "iopub.status.idle": "2023-12-20T13:54:12.433030Z",
          "shell.execute_reply.started": "2023-12-20T13:54:12.420933Z",
          "shell.execute_reply": "2023-12-20T13:54:12.432240Z"
        },
        "trusted": true,
        "id": "0876vRiqRecE",
        "outputId": "31c9dede-cd9b-41ea-9290-12a43833eae1"
      },
      "execution_count": null,
      "outputs": [
        {
          "name": "stdout",
          "text": "Online mode\n",
          "output_type": "stream"
        }
      ]
    },
    {
      "cell_type": "code",
      "source": [
        "if is_train:\n",
        "    global_stock_id_feats = {\n",
        "        \"median_size\": df_train.groupby(\"stock_id\")[\"bid_size\"].median() + df_train.groupby(\"stock_id\")[\"ask_size\"].median(),\n",
        "        \"std_size\": df_train.groupby(\"stock_id\")[\"bid_size\"].std() + df_train.groupby(\"stock_id\")[\"ask_size\"].std(),\n",
        "        \"ptp_size\": df_train.groupby(\"stock_id\")[\"bid_size\"].max() - df_train.groupby(\"stock_id\")[\"bid_size\"].min(),\n",
        "        \"median_price\": df_train.groupby(\"stock_id\")[\"bid_price\"].median() + df_train.groupby(\"stock_id\")[\"ask_price\"].median(),\n",
        "        \"std_price\": df_train.groupby(\"stock_id\")[\"bid_price\"].std() + df_train.groupby(\"stock_id\")[\"ask_price\"].std(),\n",
        "        \"ptp_price\": df_train.groupby(\"stock_id\")[\"bid_price\"].max() - df_train.groupby(\"stock_id\")[\"ask_price\"].min(),\n",
        "    }\n",
        "    if is_offline:\n",
        "        df_train_feats = generate_all_features(df_train)\n",
        "        print(\"Build Train Feats Finished.\")\n",
        "        df_valid_feats = generate_all_features(df_valid)\n",
        "        print(\"Build Valid Feats Finished.\")\n",
        "        df_valid_feats = reduce_mem_usage(df_valid_feats)\n",
        "    else:\n",
        "        df_train_feats = generate_all_features(df_train, True)\n",
        "        print(\"Build Online Train Feats Finished.\")\n",
        "\n",
        "    df_train_feats = reduce_mem_usage(df_train_feats)\n"
      ],
      "metadata": {
        "papermill": {
          "duration": 123.977176,
          "end_time": "2023-12-04T14:42:05.851198",
          "exception": false,
          "start_time": "2023-12-04T14:40:01.874022",
          "status": "completed"
        },
        "tags": [],
        "_kg_hide-output": true,
        "execution": {
          "iopub.status.busy": "2023-12-20T13:54:12.434129Z",
          "iopub.execute_input": "2023-12-20T13:54:12.434449Z"
        },
        "trusted": true,
        "id": "DDxvwwJCRecE",
        "outputId": "f84c9502-2b9e-447b-d547-79dd37d3a655"
      },
      "execution_count": null,
      "outputs": [
        {
          "name": "stderr",
          "text": "WARNING clustering 2 points to 2 centroids: please provide at least 78 training points\nWARNING clustering 2 points to 2 centroids: please provide at least 78 training points\nWARNING clustering 2 points to 2 centroids: please provide at least 78 training points\nWARNING clustering 2 points to 2 centroids: please provide at least 78 training points\nWARNING clustering 2 points to 2 centroids: please provide at least 78 training points\nWARNING clustering 2 points to 2 centroids: please provide at least 78 training points\nWARNING clustering 2 points to 2 centroids: please provide at least 78 training points\nWARNING clustering 2 points to 2 centroids: please provide at least 78 training points\nWARNING clustering 2 points to 2 centroids: please provide at least 78 training points\nWARNING clustering 2 points to 2 centroids: please provide at least 78 training points\nWARNING clustering 2 points to 2 centroids: please provide at least 78 training points\nWARNING clustering 2 points to 2 centroids: please provide at least 78 training points\nWARNING clustering 2 points to 2 centroids: please provide at least 78 training points\nWARNING clustering 2 points to 2 centroids: please provide at least 78 training points\nWARNING clustering 2 points to 2 centroids: please provide at least 78 training points\nWARNING clustering 2 points to 2 centroids: please provide at least 78 training points\nWARNING clustering 2 points to 2 centroids: please provide at least 78 training points\nWARNING clustering 2 points to 2 centroids: please provide at least 78 training points\nWARNING clustering 2 points to 2 centroids: please provide at least 78 training points\nWARNING clustering 2 points to 2 centroids: please provide at least 78 training points\nWARNING clustering 2 points to 2 centroids: please provide at least 78 training points\nWARNING clustering 2 points to 2 centroids: please provide at least 78 training points\nWARNING clustering 2 points to 2 centroids: please provide at least 78 training points\nWARNING clustering 2 points to 2 centroids: please provide at least 78 training points\nWARNING clustering 2 points to 2 centroids: please provide at least 78 training points\nWARNING clustering 2 points to 2 centroids: please provide at least 78 training points\nWARNING clustering 2 points to 2 centroids: please provide at least 78 training points\nWARNING clustering 2 points to 2 centroids: please provide at least 78 training points\nWARNING clustering 2 points to 2 centroids: please provide at least 78 training points\nWARNING clustering 2 points to 2 centroids: please provide at least 78 training points\nWARNING clustering 2 points to 2 centroids: please provide at least 78 training points\nWARNING clustering 2 points to 2 centroids: please provide at least 78 training points\nWARNING clustering 2 points to 2 centroids: please provide at least 78 training points\nWARNING clustering 2 points to 2 centroids: please provide at least 78 training points\nWARNING clustering 2 points to 2 centroids: please provide at least 78 training points\nWARNING clustering 2 points to 2 centroids: please provide at least 78 training points\nWARNING clustering 2 points to 2 centroids: please provide at least 78 training points\nWARNING clustering 2 points to 2 centroids: please provide at least 78 training points\nWARNING clustering 2 points to 2 centroids: please provide at least 78 training points\nWARNING clustering 2 points to 2 centroids: please provide at least 78 training points\nWARNING clustering 2 points to 2 centroids: please provide at least 78 training points\nWARNING clustering 2 points to 2 centroids: please provide at least 78 training points\nWARNING clustering 2 points to 2 centroids: please provide at least 78 training points\nWARNING clustering 2 points to 2 centroids: please provide at least 78 training points\nWARNING clustering 2 points to 2 centroids: please provide at least 78 training points\nWARNING clustering 2 points to 2 centroids: please provide at least 78 training points\nWARNING clustering 2 points to 2 centroids: please provide at least 78 training points\nWARNING clustering 2 points to 2 centroids: please provide at least 78 training points\nWARNING clustering 2 points to 2 centroids: please provide at least 78 training points\nWARNING clustering 2 points to 2 centroids: please provide at least 78 training points\nWARNING clustering 2 points to 2 centroids: please provide at least 78 training points\nWARNING clustering 2 points to 2 centroids: please provide at least 78 training points\nWARNING clustering 2 points to 2 centroids: please provide at least 78 training points\nWARNING clustering 2 points to 2 centroids: please provide at least 78 training points\nWARNING clustering 2 points to 2 centroids: please provide at least 78 training points\nWARNING clustering 2 points to 2 centroids: please provide at least 78 training points\nWARNING clustering 2 points to 2 centroids: please provide at least 78 training points\nWARNING clustering 2 points to 2 centroids: please provide at least 78 training points\nWARNING clustering 2 points to 2 centroids: please provide at least 78 training points\nWARNING clustering 2 points to 2 centroids: please provide at least 78 training points\nWARNING clustering 2 points to 2 centroids: please provide at least 78 training points\nWARNING clustering 2 points to 2 centroids: please provide at least 78 training points\nWARNING clustering 2 points to 2 centroids: please provide at least 78 training points\nWARNING clustering 2 points to 2 centroids: please provide at least 78 training points\nWARNING clustering 2 points to 2 centroids: please provide at least 78 training points\nWARNING clustering 2 points to 2 centroids: please provide at least 78 training points\nWARNING clustering 2 points to 2 centroids: please provide at least 78 training points\nWARNING clustering 2 points to 2 centroids: please provide at least 78 training points\nWARNING clustering 2 points to 2 centroids: please provide at least 78 training points\nWARNING clustering 2 points to 2 centroids: please provide at least 78 training points\nWARNING clustering 2 points to 2 centroids: please provide at least 78 training points\nWARNING clustering 2 points to 2 centroids: please provide at least 78 training points\nWARNING clustering 2 points to 2 centroids: please provide at least 78 training points\nWARNING clustering 2 points to 2 centroids: please provide at least 78 training points\nWARNING clustering 2 points to 2 centroids: please provide at least 78 training points\nWARNING clustering 2 points to 2 centroids: please provide at least 78 training points\nWARNING clustering 2 points to 2 centroids: please provide at least 78 training points\nWARNING clustering 2 points to 2 centroids: please provide at least 78 training points\nWARNING clustering 2 points to 2 centroids: please provide at least 78 training points\nWARNING clustering 2 points to 2 centroids: please provide at least 78 training points\nWARNING clustering 2 points to 2 centroids: please provide at least 78 training points\nWARNING clustering 2 points to 2 centroids: please provide at least 78 training points\nWARNING clustering 2 points to 2 centroids: please provide at least 78 training points\nWARNING clustering 2 points to 2 centroids: please provide at least 78 training points\nWARNING clustering 2 points to 2 centroids: please provide at least 78 training points\nWARNING clustering 2 points to 2 centroids: please provide at least 78 training points\nWARNING clustering 2 points to 2 centroids: please provide at least 78 training points\nWARNING clustering 2 points to 2 centroids: please provide at least 78 training points\nWARNING clustering 2 points to 2 centroids: please provide at least 78 training points\nWARNING clustering 2 points to 2 centroids: please provide at least 78 training points\nWARNING clustering 2 points to 2 centroids: please provide at least 78 training points\nWARNING clustering 2 points to 2 centroids: please provide at least 78 training points\nWARNING clustering 2 points to 2 centroids: please provide at least 78 training points\nWARNING clustering 2 points to 2 centroids: please provide at least 78 training points\nWARNING clustering 2 points to 2 centroids: please provide at least 78 training points\nWARNING clustering 2 points to 2 centroids: please provide at least 78 training points\nWARNING clustering 2 points to 2 centroids: please provide at least 78 training points\nWARNING clustering 2 points to 2 centroids: please provide at least 78 training points\nWARNING clustering 2 points to 2 centroids: please provide at least 78 training points\nWARNING clustering 2 points to 2 centroids: please provide at least 78 training points\nWARNING clustering 2 points to 2 centroids: please provide at least 78 training points\nWARNING clustering 2 points to 2 centroids: please provide at least 78 training points\nWARNING clustering 2 points to 2 centroids: please provide at least 78 training points\nWARNING clustering 2 points to 2 centroids: please provide at least 78 training points\nWARNING clustering 2 points to 2 centroids: please provide at least 78 training points\nWARNING clustering 2 points to 2 centroids: please provide at least 78 training points\nWARNING clustering 2 points to 2 centroids: please provide at least 78 training points\nWARNING clustering 2 points to 2 centroids: please provide at least 78 training points\nWARNING clustering 2 points to 2 centroids: please provide at least 78 training points\nWARNING clustering 2 points to 2 centroids: please provide at least 78 training points\nWARNING clustering 2 points to 2 centroids: please provide at least 78 training points\nWARNING clustering 2 points to 2 centroids: please provide at least 78 training points\nWARNING clustering 2 points to 2 centroids: please provide at least 78 training points\nWARNING clustering 2 points to 2 centroids: please provide at least 78 training points\nWARNING clustering 2 points to 2 centroids: please provide at least 78 training points\nWARNING clustering 2 points to 2 centroids: please provide at least 78 training points\nWARNING clustering 2 points to 2 centroids: please provide at least 78 training points\nWARNING clustering 2 points to 2 centroids: please provide at least 78 training points\nWARNING clustering 2 points to 2 centroids: please provide at least 78 training points\nWARNING clustering 2 points to 2 centroids: please provide at least 78 training points\nWARNING clustering 2 points to 2 centroids: please provide at least 78 training points\nWARNING clustering 2 points to 2 centroids: please provide at least 78 training points\nWARNING clustering 2 points to 2 centroids: please provide at least 78 training points\nWARNING clustering 2 points to 2 centroids: please provide at least 78 training points\nWARNING clustering 2 points to 2 centroids: please provide at least 78 training points\nWARNING clustering 2 points to 2 centroids: please provide at least 78 training points\nWARNING clustering 2 points to 2 centroids: please provide at least 78 training points\nWARNING clustering 2 points to 2 centroids: please provide at least 78 training points\nWARNING clustering 2 points to 2 centroids: please provide at least 78 training points\nWARNING clustering 2 points to 2 centroids: please provide at least 78 training points\nWARNING clustering 2 points to 2 centroids: please provide at least 78 training points\nWARNING clustering 2 points to 2 centroids: please provide at least 78 training points\nWARNING clustering 2 points to 2 centroids: please provide at least 78 training points\nWARNING clustering 2 points to 2 centroids: please provide at least 78 training points\nWARNING clustering 2 points to 2 centroids: please provide at least 78 training points\nWARNING clustering 2 points to 2 centroids: please provide at least 78 training points\nWARNING clustering 2 points to 2 centroids: please provide at least 78 training points\nWARNING clustering 2 points to 2 centroids: please provide at least 78 training points\nWARNING clustering 2 points to 2 centroids: please provide at least 78 training points\nWARNING clustering 2 points to 2 centroids: please provide at least 78 training points\nWARNING clustering 2 points to 2 centroids: please provide at least 78 training points\nWARNING clustering 2 points to 2 centroids: please provide at least 78 training points\nWARNING clustering 2 points to 2 centroids: please provide at least 78 training points\nWARNING clustering 2 points to 2 centroids: please provide at least 78 training points\nWARNING clustering 2 points to 2 centroids: please provide at least 78 training points\nWARNING clustering 2 points to 2 centroids: please provide at least 78 training points\nWARNING clustering 2 points to 2 centroids: please provide at least 78 training points\nWARNING clustering 2 points to 2 centroids: please provide at least 78 training points\nWARNING clustering 2 points to 2 centroids: please provide at least 78 training points\nWARNING clustering 2 points to 2 centroids: please provide at least 78 training points\nWARNING clustering 2 points to 2 centroids: please provide at least 78 training points\nWARNING clustering 2 points to 2 centroids: please provide at least 78 training points\nWARNING clustering 2 points to 2 centroids: please provide at least 78 training points\nWARNING clustering 2 points to 2 centroids: please provide at least 78 training points\nWARNING clustering 2 points to 2 centroids: please provide at least 78 training points\nWARNING clustering 2 points to 2 centroids: please provide at least 78 training points\nWARNING clustering 2 points to 2 centroids: please provide at least 78 training points\nWARNING clustering 2 points to 2 centroids: please provide at least 78 training points\nWARNING clustering 2 points to 2 centroids: please provide at least 78 training points\nWARNING clustering 2 points to 2 centroids: please provide at least 78 training points\nWARNING clustering 2 points to 2 centroids: please provide at least 78 training points\nWARNING clustering 2 points to 2 centroids: please provide at least 78 training points\nWARNING clustering 2 points to 2 centroids: please provide at least 78 training points\nWARNING clustering 2 points to 2 centroids: please provide at least 78 training points\nWARNING clustering 2 points to 2 centroids: please provide at least 78 training points\nWARNING clustering 2 points to 2 centroids: please provide at least 78 training points\nWARNING clustering 2 points to 2 centroids: please provide at least 78 training points\nWARNING clustering 2 points to 2 centroids: please provide at least 78 training points\nWARNING clustering 2 points to 2 centroids: please provide at least 78 training points\nWARNING clustering 2 points to 2 centroids: please provide at least 78 training points\nWARNING clustering 2 points to 2 centroids: please provide at least 78 training points\nWARNING clustering 2 points to 2 centroids: please provide at least 78 training points\nWARNING clustering 2 points to 2 centroids: please provide at least 78 training points\nWARNING clustering 2 points to 2 centroids: please provide at least 78 training points\nWARNING clustering 2 points to 2 centroids: please provide at least 78 training points\nWARNING clustering 2 points to 2 centroids: please provide at least 78 training points\nWARNING clustering 2 points to 2 centroids: please provide at least 78 training points\nWARNING clustering 2 points to 2 centroids: please provide at least 78 training points\nWARNING clustering 2 points to 2 centroids: please provide at least 78 training points\nWARNING clustering 2 points to 2 centroids: please provide at least 78 training points\nWARNING clustering 2 points to 2 centroids: please provide at least 78 training points\nWARNING clustering 2 points to 2 centroids: please provide at least 78 training points\nWARNING clustering 2 points to 2 centroids: please provide at least 78 training points\nWARNING clustering 2 points to 2 centroids: please provide at least 78 training points\nWARNING clustering 2 points to 2 centroids: please provide at least 78 training points\nWARNING clustering 2 points to 2 centroids: please provide at least 78 training points\nWARNING clustering 2 points to 2 centroids: please provide at least 78 training points\nWARNING clustering 2 points to 2 centroids: please provide at least 78 training points\nWARNING clustering 2 points to 2 centroids: please provide at least 78 training points\nWARNING clustering 2 points to 2 centroids: please provide at least 78 training points\nWARNING clustering 2 points to 2 centroids: please provide at least 78 training points\nWARNING clustering 2 points to 2 centroids: please provide at least 78 training points\nWARNING clustering 2 points to 2 centroids: please provide at least 78 training points\nWARNING clustering 2 points to 2 centroids: please provide at least 78 training points\nWARNING clustering 2 points to 2 centroids: please provide at least 78 training points\nWARNING clustering 2 points to 2 centroids: please provide at least 78 training points\nWARNING clustering 2 points to 2 centroids: please provide at least 78 training points\nWARNING clustering 2 points to 2 centroids: please provide at least 78 training points\nWARNING clustering 2 points to 2 centroids: please provide at least 78 training points\nWARNING clustering 2 points to 2 centroids: please provide at least 78 training points\nWARNING clustering 2 points to 2 centroids: please provide at least 78 training points\nWARNING clustering 2 points to 2 centroids: please provide at least 78 training points\nWARNING clustering 2 points to 2 centroids: please provide at least 78 training points\nWARNING clustering 2 points to 2 centroids: please provide at least 78 training points\nWARNING clustering 2 points to 2 centroids: please provide at least 78 training points\nWARNING clustering 2 points to 2 centroids: please provide at least 78 training points\nWARNING clustering 2 points to 2 centroids: please provide at least 78 training points\nWARNING clustering 2 points to 2 centroids: please provide at least 78 training points\nWARNING clustering 2 points to 2 centroids: please provide at least 78 training points\nWARNING clustering 2 points to 2 centroids: please provide at least 78 training points\nWARNING clustering 2 points to 2 centroids: please provide at least 78 training points\nWARNING clustering 2 points to 2 centroids: please provide at least 78 training points\nWARNING clustering 2 points to 2 centroids: please provide at least 78 training points\nWARNING clustering 2 points to 2 centroids: please provide at least 78 training points\nWARNING clustering 2 points to 2 centroids: please provide at least 78 training points\nWARNING clustering 2 points to 2 centroids: please provide at least 78 training points\nWARNING clustering 2 points to 2 centroids: please provide at least 78 training points\nWARNING clustering 2 points to 2 centroids: please provide at least 78 training points\nWARNING clustering 2 points to 2 centroids: please provide at least 78 training points\nWARNING clustering 2 points to 2 centroids: please provide at least 78 training points\nWARNING clustering 2 points to 2 centroids: please provide at least 78 training points\nWARNING clustering 2 points to 2 centroids: please provide at least 78 training points\nWARNING clustering 2 points to 2 centroids: please provide at least 78 training points\nWARNING clustering 2 points to 2 centroids: please provide at least 78 training points\nWARNING clustering 2 points to 2 centroids: please provide at least 78 training points\nWARNING clustering 2 points to 2 centroids: please provide at least 78 training points\nWARNING clustering 2 points to 2 centroids: please provide at least 78 training points\nWARNING clustering 2 points to 2 centroids: please provide at least 78 training points\nWARNING clustering 2 points to 2 centroids: please provide at least 78 training points\nWARNING clustering 2 points to 2 centroids: please provide at least 78 training points\nWARNING clustering 2 points to 2 centroids: please provide at least 78 training points\nWARNING clustering 2 points to 2 centroids: please provide at least 78 training points\nWARNING clustering 2 points to 2 centroids: please provide at least 78 training points\nWARNING clustering 2 points to 2 centroids: please provide at least 78 training points\nWARNING clustering 2 points to 2 centroids: please provide at least 78 training points\nWARNING clustering 2 points to 2 centroids: please provide at least 78 training points\nWARNING clustering 2 points to 2 centroids: please provide at least 78 training points\nWARNING clustering 2 points to 2 centroids: please provide at least 78 training points\nWARNING clustering 2 points to 2 centroids: please provide at least 78 training points\nWARNING clustering 2 points to 2 centroids: please provide at least 78 training points\nWARNING clustering 2 points to 2 centroids: please provide at least 78 training points\nWARNING clustering 2 points to 2 centroids: please provide at least 78 training points\nWARNING clustering 2 points to 2 centroids: please provide at least 78 training points\nWARNING clustering 2 points to 2 centroids: please provide at least 78 training points\nWARNING clustering 2 points to 2 centroids: please provide at least 78 training points\nWARNING clustering 2 points to 2 centroids: please provide at least 78 training points\nWARNING clustering 2 points to 2 centroids: please provide at least 78 training points\nWARNING clustering 2 points to 2 centroids: please provide at least 78 training points\nWARNING clustering 2 points to 2 centroids: please provide at least 78 training points\nWARNING clustering 2 points to 2 centroids: please provide at least 78 training points\nWARNING clustering 2 points to 2 centroids: please provide at least 78 training points\nWARNING clustering 2 points to 2 centroids: please provide at least 78 training points\nWARNING clustering 2 points to 2 centroids: please provide at least 78 training points\nWARNING clustering 2 points to 2 centroids: please provide at least 78 training points\nWARNING clustering 2 points to 2 centroids: please provide at least 78 training points\nWARNING clustering 2 points to 2 centroids: please provide at least 78 training points\nWARNING clustering 2 points to 2 centroids: please provide at least 78 training points\nWARNING clustering 2 points to 2 centroids: please provide at least 78 training points\nWARNING clustering 2 points to 2 centroids: please provide at least 78 training points\nWARNING clustering 2 points to 2 centroids: please provide at least 78 training points\nWARNING clustering 2 points to 2 centroids: please provide at least 78 training points\nWARNING clustering 2 points to 2 centroids: please provide at least 78 training points\nWARNING clustering 2 points to 2 centroids: please provide at least 78 training points\nWARNING clustering 2 points to 2 centroids: please provide at least 78 training points\nWARNING clustering 2 points to 2 centroids: please provide at least 78 training points\nWARNING clustering 2 points to 2 centroids: please provide at least 78 training points\nWARNING clustering 2 points to 2 centroids: please provide at least 78 training points\nWARNING clustering 2 points to 2 centroids: please provide at least 78 training points\nWARNING clustering 2 points to 2 centroids: please provide at least 78 training points\nWARNING clustering 2 points to 2 centroids: please provide at least 78 training points\nWARNING clustering 2 points to 2 centroids: please provide at least 78 training points\nWARNING clustering 2 points to 2 centroids: please provide at least 78 training points\nWARNING clustering 2 points to 2 centroids: please provide at least 78 training points\nWARNING clustering 2 points to 2 centroids: please provide at least 78 training points\nWARNING clustering 2 points to 2 centroids: please provide at least 78 training points\nWARNING clustering 2 points to 2 centroids: please provide at least 78 training points\nWARNING clustering 2 points to 2 centroids: please provide at least 78 training points\nWARNING clustering 2 points to 2 centroids: please provide at least 78 training points\nWARNING clustering 2 points to 2 centroids: please provide at least 78 training points\nWARNING clustering 2 points to 2 centroids: please provide at least 78 training points\nWARNING clustering 2 points to 2 centroids: please provide at least 78 training points\nWARNING clustering 2 points to 2 centroids: please provide at least 78 training points\nWARNING clustering 2 points to 2 centroids: please provide at least 78 training points\nWARNING clustering 2 points to 2 centroids: please provide at least 78 training points\nWARNING clustering 2 points to 2 centroids: please provide at least 78 training points\nWARNING clustering 2 points to 2 centroids: please provide at least 78 training points\nWARNING clustering 2 points to 2 centroids: please provide at least 78 training points\nWARNING clustering 2 points to 2 centroids: please provide at least 78 training points\nWARNING clustering 2 points to 2 centroids: please provide at least 78 training points\nWARNING clustering 2 points to 2 centroids: please provide at least 78 training points\nWARNING clustering 2 points to 2 centroids: please provide at least 78 training points\nWARNING clustering 2 points to 2 centroids: please provide at least 78 training points\nWARNING clustering 2 points to 2 centroids: please provide at least 78 training points\nWARNING clustering 2 points to 2 centroids: please provide at least 78 training points\nWARNING clustering 2 points to 2 centroids: please provide at least 78 training points\nWARNING clustering 2 points to 2 centroids: please provide at least 78 training points\nWARNING clustering 2 points to 2 centroids: please provide at least 78 training points\nWARNING clustering 2 points to 2 centroids: please provide at least 78 training points\nWARNING clustering 2 points to 2 centroids: please provide at least 78 training points\nWARNING clustering 2 points to 2 centroids: please provide at least 78 training points\nWARNING clustering 2 points to 2 centroids: please provide at least 78 training points\nWARNING clustering 2 points to 2 centroids: please provide at least 78 training points\nWARNING clustering 2 points to 2 centroids: please provide at least 78 training points\nWARNING clustering 2 points to 2 centroids: please provide at least 78 training points\nWARNING clustering 2 points to 2 centroids: please provide at least 78 training points\nWARNING clustering 2 points to 2 centroids: please provide at least 78 training points\nWARNING clustering 2 points to 2 centroids: please provide at least 78 training points\nWARNING clustering 2 points to 2 centroids: please provide at least 78 training points\nWARNING clustering 2 points to 2 centroids: please provide at least 78 training points\nWARNING clustering 2 points to 2 centroids: please provide at least 78 training points\nWARNING clustering 2 points to 2 centroids: please provide at least 78 training points\nWARNING clustering 2 points to 2 centroids: please provide at least 78 training points\nWARNING clustering 2 points to 2 centroids: please provide at least 78 training points\nWARNING clustering 2 points to 2 centroids: please provide at least 78 training points\nWARNING clustering 2 points to 2 centroids: please provide at least 78 training points\nWARNING clustering 2 points to 2 centroids: please provide at least 78 training points\nWARNING clustering 2 points to 2 centroids: please provide at least 78 training points\nWARNING clustering 2 points to 2 centroids: please provide at least 78 training points\nWARNING clustering 2 points to 2 centroids: please provide at least 78 training points\nWARNING clustering 2 points to 2 centroids: please provide at least 78 training points\nWARNING clustering 2 points to 2 centroids: please provide at least 78 training points\nWARNING clustering 2 points to 2 centroids: please provide at least 78 training points\nWARNING clustering 2 points to 2 centroids: please provide at least 78 training points\nWARNING clustering 2 points to 2 centroids: please provide at least 78 training points\nWARNING clustering 2 points to 2 centroids: please provide at least 78 training points\nWARNING clustering 2 points to 2 centroids: please provide at least 78 training points\nWARNING clustering 2 points to 2 centroids: please provide at least 78 training points\nWARNING clustering 2 points to 2 centroids: please provide at least 78 training points\nWARNING clustering 2 points to 2 centroids: please provide at least 78 training points\nWARNING clustering 2 points to 2 centroids: please provide at least 78 training points\nWARNING clustering 2 points to 2 centroids: please provide at least 78 training points\nWARNING clustering 2 points to 2 centroids: please provide at least 78 training points\nWARNING clustering 2 points to 2 centroids: please provide at least 78 training points\nWARNING clustering 2 points to 2 centroids: please provide at least 78 training points\nWARNING clustering 2 points to 2 centroids: please provide at least 78 training points\nWARNING clustering 2 points to 2 centroids: please provide at least 78 training points\nWARNING clustering 2 points to 2 centroids: please provide at least 78 training points\nWARNING clustering 2 points to 2 centroids: please provide at least 78 training points\nWARNING clustering 2 points to 2 centroids: please provide at least 78 training points\nWARNING clustering 2 points to 2 centroids: please provide at least 78 training points\nWARNING clustering 2 points to 2 centroids: please provide at least 78 training points\nWARNING clustering 2 points to 2 centroids: please provide at least 78 training points\nWARNING clustering 2 points to 2 centroids: please provide at least 78 training points\nWARNING clustering 2 points to 2 centroids: please provide at least 78 training points\nWARNING clustering 2 points to 2 centroids: please provide at least 78 training points\nWARNING clustering 2 points to 2 centroids: please provide at least 78 training points\nWARNING clustering 2 points to 2 centroids: please provide at least 78 training points\nWARNING clustering 2 points to 2 centroids: please provide at least 78 training points\nWARNING clustering 2 points to 2 centroids: please provide at least 78 training points\nWARNING clustering 2 points to 2 centroids: please provide at least 78 training points\nWARNING clustering 2 points to 2 centroids: please provide at least 78 training points\nWARNING clustering 2 points to 2 centroids: please provide at least 78 training points\nWARNING clustering 2 points to 2 centroids: please provide at least 78 training points\nWARNING clustering 2 points to 2 centroids: please provide at least 78 training points\nWARNING clustering 2 points to 2 centroids: please provide at least 78 training points\nWARNING clustering 2 points to 2 centroids: please provide at least 78 training points\nWARNING clustering 2 points to 2 centroids: please provide at least 78 training points\nWARNING clustering 2 points to 2 centroids: please provide at least 78 training points\nWARNING clustering 2 points to 2 centroids: please provide at least 78 training points\nWARNING clustering 2 points to 2 centroids: please provide at least 78 training points\nWARNING clustering 2 points to 2 centroids: please provide at least 78 training points\nWARNING clustering 2 points to 2 centroids: please provide at least 78 training points\nWARNING clustering 2 points to 2 centroids: please provide at least 78 training points\nWARNING clustering 2 points to 2 centroids: please provide at least 78 training points\nWARNING clustering 2 points to 2 centroids: please provide at least 78 training points\nWARNING clustering 2 points to 2 centroids: please provide at least 78 training points\nWARNING clustering 2 points to 2 centroids: please provide at least 78 training points\nWARNING clustering 2 points to 2 centroids: please provide at least 78 training points\nWARNING clustering 2 points to 2 centroids: please provide at least 78 training points\nWARNING clustering 2 points to 2 centroids: please provide at least 78 training points\nWARNING clustering 2 points to 2 centroids: please provide at least 78 training points\nWARNING clustering 2 points to 2 centroids: please provide at least 78 training points\nWARNING clustering 2 points to 2 centroids: please provide at least 78 training points\nWARNING clustering 2 points to 2 centroids: please provide at least 78 training points\nWARNING clustering 2 points to 2 centroids: please provide at least 78 training points\nWARNING clustering 2 points to 2 centroids: please provide at least 78 training points\nWARNING clustering 2 points to 2 centroids: please provide at least 78 training points\nWARNING clustering 2 points to 2 centroids: please provide at least 78 training points\nWARNING clustering 2 points to 2 centroids: please provide at least 78 training points\nWARNING clustering 2 points to 2 centroids: please provide at least 78 training points\nWARNING clustering 2 points to 2 centroids: please provide at least 78 training points\nWARNING clustering 2 points to 2 centroids: please provide at least 78 training points\nWARNING clustering 2 points to 2 centroids: please provide at least 78 training points\nWARNING clustering 2 points to 2 centroids: please provide at least 78 training points\nWARNING clustering 2 points to 2 centroids: please provide at least 78 training points\nWARNING clustering 2 points to 2 centroids: please provide at least 78 training points\nWARNING clustering 2 points to 2 centroids: please provide at least 78 training points\nWARNING clustering 2 points to 2 centroids: please provide at least 78 training points\nWARNING clustering 2 points to 2 centroids: please provide at least 78 training points\nWARNING clustering 2 points to 2 centroids: please provide at least 78 training points\nWARNING clustering 2 points to 2 centroids: please provide at least 78 training points\nWARNING clustering 2 points to 2 centroids: please provide at least 78 training points\nWARNING clustering 2 points to 2 centroids: please provide at least 78 training points\nWARNING clustering 2 points to 2 centroids: please provide at least 78 training points\nWARNING clustering 2 points to 2 centroids: please provide at least 78 training points\nWARNING clustering 2 points to 2 centroids: please provide at least 78 training points\nWARNING clustering 2 points to 2 centroids: please provide at least 78 training points\nWARNING clustering 2 points to 2 centroids: please provide at least 78 training points\nWARNING clustering 2 points to 2 centroids: please provide at least 78 training points\nWARNING clustering 2 points to 2 centroids: please provide at least 78 training points\nWARNING clustering 2 points to 2 centroids: please provide at least 78 training points\nWARNING clustering 2 points to 2 centroids: please provide at least 78 training points\nWARNING clustering 2 points to 2 centroids: please provide at least 78 training points\nWARNING clustering 2 points to 2 centroids: please provide at least 78 training points\nWARNING clustering 2 points to 2 centroids: please provide at least 78 training points\nWARNING clustering 2 points to 2 centroids: please provide at least 78 training points\nWARNING clustering 2 points to 2 centroids: please provide at least 78 training points\nWARNING clustering 2 points to 2 centroids: please provide at least 78 training points\nWARNING clustering 2 points to 2 centroids: please provide at least 78 training points\nWARNING clustering 2 points to 2 centroids: please provide at least 78 training points\nWARNING clustering 2 points to 2 centroids: please provide at least 78 training points\nWARNING clustering 2 points to 2 centroids: please provide at least 78 training points\nWARNING clustering 2 points to 2 centroids: please provide at least 78 training points\nWARNING clustering 2 points to 2 centroids: please provide at least 78 training points\nWARNING clustering 2 points to 2 centroids: please provide at least 78 training points\nWARNING clustering 2 points to 2 centroids: please provide at least 78 training points\nWARNING clustering 2 points to 2 centroids: please provide at least 78 training points\nWARNING clustering 2 points to 2 centroids: please provide at least 78 training points\nWARNING clustering 2 points to 2 centroids: please provide at least 78 training points\nWARNING clustering 2 points to 2 centroids: please provide at least 78 training points\nWARNING clustering 2 points to 2 centroids: please provide at least 78 training points\nWARNING clustering 2 points to 2 centroids: please provide at least 78 training points\nWARNING clustering 2 points to 2 centroids: please provide at least 78 training points\nWARNING clustering 2 points to 2 centroids: please provide at least 78 training points\nWARNING clustering 2 points to 2 centroids: please provide at least 78 training points\nWARNING clustering 2 points to 2 centroids: please provide at least 78 training points\nWARNING clustering 2 points to 2 centroids: please provide at least 78 training points\nWARNING clustering 2 points to 2 centroids: please provide at least 78 training points\nWARNING clustering 2 points to 2 centroids: please provide at least 78 training points\nWARNING clustering 2 points to 2 centroids: please provide at least 78 training points\nWARNING clustering 2 points to 2 centroids: please provide at least 78 training points\nWARNING clustering 2 points to 2 centroids: please provide at least 78 training points\nWARNING clustering 2 points to 2 centroids: please provide at least 78 training points\nWARNING clustering 2 points to 2 centroids: please provide at least 78 training points\nWARNING clustering 2 points to 2 centroids: please provide at least 78 training points\nWARNING clustering 2 points to 2 centroids: please provide at least 78 training points\nWARNING clustering 2 points to 2 centroids: please provide at least 78 training points\nWARNING clustering 2 points to 2 centroids: please provide at least 78 training points\nWARNING clustering 2 points to 2 centroids: please provide at least 78 training points\nWARNING clustering 2 points to 2 centroids: please provide at least 78 training points\nWARNING clustering 2 points to 2 centroids: please provide at least 78 training points\nWARNING clustering 2 points to 2 centroids: please provide at least 78 training points\nWARNING clustering 2 points to 2 centroids: please provide at least 78 training points\nWARNING clustering 2 points to 2 centroids: please provide at least 78 training points\nWARNING clustering 2 points to 2 centroids: please provide at least 78 training points\nWARNING clustering 2 points to 2 centroids: please provide at least 78 training points\nWARNING clustering 2 points to 2 centroids: please provide at least 78 training points\nWARNING clustering 2 points to 2 centroids: please provide at least 78 training points\nWARNING clustering 2 points to 2 centroids: please provide at least 78 training points\nWARNING clustering 2 points to 2 centroids: please provide at least 78 training points\nWARNING clustering 2 points to 2 centroids: please provide at least 78 training points\nWARNING clustering 2 points to 2 centroids: please provide at least 78 training points\nWARNING clustering 2 points to 2 centroids: please provide at least 78 training points\nWARNING clustering 2 points to 2 centroids: please provide at least 78 training points\nWARNING clustering 2 points to 2 centroids: please provide at least 78 training points\nWARNING clustering 2 points to 2 centroids: please provide at least 78 training points\nWARNING clustering 2 points to 2 centroids: please provide at least 78 training points\nWARNING clustering 2 points to 2 centroids: please provide at least 78 training points\nWARNING clustering 2 points to 2 centroids: please provide at least 78 training points\nWARNING clustering 2 points to 2 centroids: please provide at least 78 training points\nWARNING clustering 2 points to 2 centroids: please provide at least 78 training points\nWARNING clustering 2 points to 2 centroids: please provide at least 78 training points\nWARNING clustering 2 points to 2 centroids: please provide at least 78 training points\nWARNING clustering 2 points to 2 centroids: please provide at least 78 training points\nWARNING clustering 2 points to 2 centroids: please provide at least 78 training points\nWARNING clustering 2 points to 2 centroids: please provide at least 78 training points\nWARNING clustering 2 points to 2 centroids: please provide at least 78 training points\nWARNING clustering 2 points to 2 centroids: please provide at least 78 training points\nWARNING clustering 2 points to 2 centroids: please provide at least 78 training points\nWARNING clustering 2 points to 2 centroids: please provide at least 78 training points\nWARNING clustering 2 points to 2 centroids: please provide at least 78 training points\nWARNING clustering 2 points to 2 centroids: please provide at least 78 training points\nWARNING clustering 2 points to 2 centroids: please provide at least 78 training points\nWARNING clustering 2 points to 2 centroids: please provide at least 78 training points\nWARNING clustering 2 points to 2 centroids: please provide at least 78 training points\nWARNING clustering 2 points to 2 centroids: please provide at least 78 training points\nWARNING clustering 2 points to 2 centroids: please provide at least 78 training points\nWARNING clustering 2 points to 2 centroids: please provide at least 78 training points\nWARNING clustering 2 points to 2 centroids: please provide at least 78 training points\nWARNING clustering 2 points to 2 centroids: please provide at least 78 training points\nWARNING clustering 2 points to 2 centroids: please provide at least 78 training points\nWARNING clustering 2 points to 2 centroids: please provide at least 78 training points\nWARNING clustering 2 points to 2 centroids: please provide at least 78 training points\nWARNING clustering 2 points to 2 centroids: please provide at least 78 training points\nWARNING clustering 2 points to 2 centroids: please provide at least 78 training points\nWARNING clustering 2 points to 2 centroids: please provide at least 78 training points\nWARNING clustering 2 points to 2 centroids: please provide at least 78 training points\nWARNING clustering 2 points to 2 centroids: please provide at least 78 training points\nWARNING clustering 2 points to 2 centroids: please provide at least 78 training points\nWARNING clustering 2 points to 2 centroids: please provide at least 78 training points\nWARNING clustering 2 points to 2 centroids: please provide at least 78 training points\nWARNING clustering 2 points to 2 centroids: please provide at least 78 training points\nWARNING clustering 2 points to 2 centroids: please provide at least 78 training points\nWARNING clustering 2 points to 2 centroids: please provide at least 78 training points\nWARNING clustering 2 points to 2 centroids: please provide at least 78 training points\nWARNING clustering 2 points to 2 centroids: please provide at least 78 training points\nWARNING clustering 2 points to 2 centroids: please provide at least 78 training points\nWARNING clustering 2 points to 2 centroids: please provide at least 78 training points\nWARNING clustering 2 points to 2 centroids: please provide at least 78 training points\nWARNING clustering 2 points to 2 centroids: please provide at least 78 training points\nWARNING clustering 2 points to 2 centroids: please provide at least 78 training points\nWARNING clustering 2 points to 2 centroids: please provide at least 78 training points\nWARNING clustering 2 points to 2 centroids: please provide at least 78 training points\nWARNING clustering 2 points to 2 centroids: please provide at least 78 training points\nWARNING clustering 2 points to 2 centroids: please provide at least 78 training points\nWARNING clustering 2 points to 2 centroids: please provide at least 78 training points\nWARNING clustering 2 points to 2 centroids: please provide at least 78 training points\nWARNING clustering 2 points to 2 centroids: please provide at least 78 training points\nWARNING clustering 2 points to 2 centroids: please provide at least 78 training points\nWARNING clustering 2 points to 2 centroids: please provide at least 78 training points\nWARNING clustering 2 points to 2 centroids: please provide at least 78 training points\nWARNING clustering 2 points to 2 centroids: please provide at least 78 training points\nWARNING clustering 2 points to 2 centroids: please provide at least 78 training points\nWARNING clustering 2 points to 2 centroids: please provide at least 78 training points\nWARNING clustering 2 points to 2 centroids: please provide at least 78 training points\nWARNING clustering 2 points to 2 centroids: please provide at least 78 training points\nWARNING clustering 2 points to 2 centroids: please provide at least 78 training points\nWARNING clustering 2 points to 2 centroids: please provide at least 78 training points\nWARNING clustering 2 points to 2 centroids: please provide at least 78 training points\nWARNING clustering 2 points to 2 centroids: please provide at least 78 training points\nWARNING clustering 2 points to 2 centroids: please provide at least 78 training points\nWARNING clustering 2 points to 2 centroids: please provide at least 78 training points\nWARNING clustering 2 points to 2 centroids: please provide at least 78 training points\nWARNING clustering 2 points to 2 centroids: please provide at least 78 training points\nWARNING clustering 2 points to 2 centroids: please provide at least 78 training points\nWARNING clustering 2 points to 2 centroids: please provide at least 78 training points\nWARNING clustering 2 points to 2 centroids: please provide at least 78 training points\nWARNING clustering 2 points to 2 centroids: please provide at least 78 training points\nWARNING clustering 2 points to 2 centroids: please provide at least 78 training points\nWARNING clustering 2 points to 2 centroids: please provide at least 78 training points\nWARNING clustering 2 points to 2 centroids: please provide at least 78 training points\nWARNING clustering 2 points to 2 centroids: please provide at least 78 training points\nWARNING clustering 2 points to 2 centroids: please provide at least 78 training points\nWARNING clustering 2 points to 2 centroids: please provide at least 78 training points\nWARNING clustering 2 points to 2 centroids: please provide at least 78 training points\nWARNING clustering 2 points to 2 centroids: please provide at least 78 training points\nWARNING clustering 2 points to 2 centroids: please provide at least 78 training points\nWARNING clustering 2 points to 2 centroids: please provide at least 78 training points\nWARNING clustering 2 points to 2 centroids: please provide at least 78 training points\nWARNING clustering 2 points to 2 centroids: please provide at least 78 training points\nWARNING clustering 2 points to 2 centroids: please provide at least 78 training points\nWARNING clustering 2 points to 2 centroids: please provide at least 78 training points\nWARNING clustering 2 points to 2 centroids: please provide at least 78 training points\nWARNING clustering 2 points to 2 centroids: please provide at least 78 training points\nWARNING clustering 2 points to 2 centroids: please provide at least 78 training points\nWARNING clustering 2 points to 2 centroids: please provide at least 78 training points\nWARNING clustering 2 points to 2 centroids: please provide at least 78 training points\nWARNING clustering 2 points to 2 centroids: please provide at least 78 training points\nWARNING clustering 2 points to 2 centroids: please provide at least 78 training points\nWARNING clustering 2 points to 2 centroids: please provide at least 78 training points\nWARNING clustering 2 points to 2 centroids: please provide at least 78 training points\nWARNING clustering 2 points to 2 centroids: please provide at least 78 training points\nWARNING clustering 2 points to 2 centroids: please provide at least 78 training points\nWARNING clustering 2 points to 2 centroids: please provide at least 78 training points\nWARNING clustering 2 points to 2 centroids: please provide at least 78 training points\nWARNING clustering 2 points to 2 centroids: please provide at least 78 training points\nWARNING clustering 2 points to 2 centroids: please provide at least 78 training points\nWARNING clustering 2 points to 2 centroids: please provide at least 78 training points\nWARNING clustering 2 points to 2 centroids: please provide at least 78 training points\nWARNING clustering 2 points to 2 centroids: please provide at least 78 training points\nWARNING clustering 2 points to 2 centroids: please provide at least 78 training points\nWARNING clustering 2 points to 2 centroids: please provide at least 78 training points\nWARNING clustering 2 points to 2 centroids: please provide at least 78 training points\nWARNING clustering 2 points to 2 centroids: please provide at least 78 training points\nWARNING clustering 2 points to 2 centroids: please provide at least 78 training points\nWARNING clustering 2 points to 2 centroids: please provide at least 78 training points\nWARNING clustering 2 points to 2 centroids: please provide at least 78 training points\nWARNING clustering 2 points to 2 centroids: please provide at least 78 training points\nWARNING clustering 2 points to 2 centroids: please provide at least 78 training points\nWARNING clustering 2 points to 2 centroids: please provide at least 78 training points\nWARNING clustering 2 points to 2 centroids: please provide at least 78 training points\nWARNING clustering 2 points to 2 centroids: please provide at least 78 training points\nWARNING clustering 2 points to 2 centroids: please provide at least 78 training points\nWARNING clustering 2 points to 2 centroids: please provide at least 78 training points\nWARNING clustering 2 points to 2 centroids: please provide at least 78 training points\nWARNING clustering 2 points to 2 centroids: please provide at least 78 training points\nWARNING clustering 2 points to 2 centroids: please provide at least 78 training points\nWARNING clustering 2 points to 2 centroids: please provide at least 78 training points\nWARNING clustering 2 points to 2 centroids: please provide at least 78 training points\nWARNING clustering 2 points to 2 centroids: please provide at least 78 training points\nWARNING clustering 2 points to 2 centroids: please provide at least 78 training points\nWARNING clustering 2 points to 2 centroids: please provide at least 78 training points\nWARNING clustering 2 points to 2 centroids: please provide at least 78 training points\nWARNING clustering 2 points to 2 centroids: please provide at least 78 training points\nWARNING clustering 2 points to 2 centroids: please provide at least 78 training points\nWARNING clustering 2 points to 2 centroids: please provide at least 78 training points\nWARNING clustering 2 points to 2 centroids: please provide at least 78 training points\nWARNING clustering 2 points to 2 centroids: please provide at least 78 training points\nWARNING clustering 2 points to 2 centroids: please provide at least 78 training points\nWARNING clustering 2 points to 2 centroids: please provide at least 78 training points\nWARNING clustering 2 points to 2 centroids: please provide at least 78 training points\nWARNING clustering 2 points to 2 centroids: please provide at least 78 training points\nWARNING clustering 2 points to 2 centroids: please provide at least 78 training points\nWARNING clustering 2 points to 2 centroids: please provide at least 78 training points\nWARNING clustering 2 points to 2 centroids: please provide at least 78 training points\nWARNING clustering 2 points to 2 centroids: please provide at least 78 training points\nWARNING clustering 2 points to 2 centroids: please provide at least 78 training points\nWARNING clustering 2 points to 2 centroids: please provide at least 78 training points\nWARNING clustering 2 points to 2 centroids: please provide at least 78 training points\nWARNING clustering 2 points to 2 centroids: please provide at least 78 training points\nWARNING clustering 2 points to 2 centroids: please provide at least 78 training points\nWARNING clustering 2 points to 2 centroids: please provide at least 78 training points\nWARNING clustering 2 points to 2 centroids: please provide at least 78 training points\nWARNING clustering 2 points to 2 centroids: please provide at least 78 training points\nWARNING clustering 2 points to 2 centroids: please provide at least 78 training points\nWARNING clustering 2 points to 2 centroids: please provide at least 78 training points\nWARNING clustering 2 points to 2 centroids: please provide at least 78 training points\nWARNING clustering 2 points to 2 centroids: please provide at least 78 training points\nWARNING clustering 2 points to 2 centroids: please provide at least 78 training points\nWARNING clustering 2 points to 2 centroids: please provide at least 78 training points\nWARNING clustering 2 points to 2 centroids: please provide at least 78 training points\nWARNING clustering 2 points to 2 centroids: please provide at least 78 training points\nWARNING clustering 2 points to 2 centroids: please provide at least 78 training points\nWARNING clustering 2 points to 2 centroids: please provide at least 78 training points\nWARNING clustering 2 points to 2 centroids: please provide at least 78 training points\nWARNING clustering 2 points to 2 centroids: please provide at least 78 training points\nWARNING clustering 2 points to 2 centroids: please provide at least 78 training points\nWARNING clustering 2 points to 2 centroids: please provide at least 78 training points\nWARNING clustering 2 points to 2 centroids: please provide at least 78 training points\nWARNING clustering 2 points to 2 centroids: please provide at least 78 training points\nWARNING clustering 2 points to 2 centroids: please provide at least 78 training points\nWARNING clustering 2 points to 2 centroids: please provide at least 78 training points\nWARNING clustering 2 points to 2 centroids: please provide at least 78 training points\nWARNING clustering 2 points to 2 centroids: please provide at least 78 training points\nWARNING clustering 2 points to 2 centroids: please provide at least 78 training points\nWARNING clustering 2 points to 2 centroids: please provide at least 78 training points\nWARNING clustering 2 points to 2 centroids: please provide at least 78 training points\nWARNING clustering 2 points to 2 centroids: please provide at least 78 training points\nWARNING clustering 2 points to 2 centroids: please provide at least 78 training points\nWARNING clustering 2 points to 2 centroids: please provide at least 78 training points\nWARNING clustering 2 points to 2 centroids: please provide at least 78 training points\nWARNING clustering 2 points to 2 centroids: please provide at least 78 training points\nWARNING clustering 2 points to 2 centroids: please provide at least 78 training points\nWARNING clustering 2 points to 2 centroids: please provide at least 78 training points\nWARNING clustering 2 points to 2 centroids: please provide at least 78 training points\nWARNING clustering 2 points to 2 centroids: please provide at least 78 training points\nWARNING clustering 2 points to 2 centroids: please provide at least 78 training points\nWARNING clustering 2 points to 2 centroids: please provide at least 78 training points\nWARNING clustering 2 points to 2 centroids: please provide at least 78 training points\nWARNING clustering 2 points to 2 centroids: please provide at least 78 training points\nWARNING clustering 2 points to 2 centroids: please provide at least 78 training points\nWARNING clustering 2 points to 2 centroids: please provide at least 78 training points\nWARNING clustering 2 points to 2 centroids: please provide at least 78 training points\nWARNING clustering 2 points to 2 centroids: please provide at least 78 training points\nWARNING clustering 2 points to 2 centroids: please provide at least 78 training points\nWARNING clustering 2 points to 2 centroids: please provide at least 78 training points\nWARNING clustering 2 points to 2 centroids: please provide at least 78 training points\nWARNING clustering 2 points to 2 centroids: please provide at least 78 training points\nWARNING clustering 2 points to 2 centroids: please provide at least 78 training points\nWARNING clustering 2 points to 2 centroids: please provide at least 78 training points\nWARNING clustering 2 points to 2 centroids: please provide at least 78 training points\nWARNING clustering 2 points to 2 centroids: please provide at least 78 training points\nWARNING clustering 2 points to 2 centroids: please provide at least 78 training points\nWARNING clustering 2 points to 2 centroids: please provide at least 78 training points\nWARNING clustering 2 points to 2 centroids: please provide at least 78 training points\nWARNING clustering 2 points to 2 centroids: please provide at least 78 training points\nWARNING clustering 2 points to 2 centroids: please provide at least 78 training points\nWARNING clustering 2 points to 2 centroids: please provide at least 78 training points\nWARNING clustering 2 points to 2 centroids: please provide at least 78 training points\nWARNING clustering 2 points to 2 centroids: please provide at least 78 training points\nWARNING clustering 2 points to 2 centroids: please provide at least 78 training points\nWARNING clustering 2 points to 2 centroids: please provide at least 78 training points\nWARNING clustering 2 points to 2 centroids: please provide at least 78 training points\nWARNING clustering 2 points to 2 centroids: please provide at least 78 training points\nWARNING clustering 2 points to 2 centroids: please provide at least 78 training points\nWARNING clustering 2 points to 2 centroids: please provide at least 78 training points\nWARNING clustering 2 points to 2 centroids: please provide at least 78 training points\nWARNING clustering 2 points to 2 centroids: please provide at least 78 training points\nWARNING clustering 2 points to 2 centroids: please provide at least 78 training points\nWARNING clustering 2 points to 2 centroids: please provide at least 78 training points\nWARNING clustering 2 points to 2 centroids: please provide at least 78 training points\nWARNING clustering 2 points to 2 centroids: please provide at least 78 training points\nWARNING clustering 2 points to 2 centroids: please provide at least 78 training points\nWARNING clustering 2 points to 2 centroids: please provide at least 78 training points\nWARNING clustering 2 points to 2 centroids: please provide at least 78 training points\nWARNING clustering 2 points to 2 centroids: please provide at least 78 training points\nWARNING clustering 2 points to 2 centroids: please provide at least 78 training points\nWARNING clustering 2 points to 2 centroids: please provide at least 78 training points\nWARNING clustering 2 points to 2 centroids: please provide at least 78 training points\nWARNING clustering 2 points to 2 centroids: please provide at least 78 training points\nWARNING clustering 2 points to 2 centroids: please provide at least 78 training points\nWARNING clustering 2 points to 2 centroids: please provide at least 78 training points\nWARNING clustering 2 points to 2 centroids: please provide at least 78 training points\nWARNING clustering 2 points to 2 centroids: please provide at least 78 training points\nWARNING clustering 2 points to 2 centroids: please provide at least 78 training points\nWARNING clustering 2 points to 2 centroids: please provide at least 78 training points\nWARNING clustering 2 points to 2 centroids: please provide at least 78 training points\nWARNING clustering 2 points to 2 centroids: please provide at least 78 training points\nWARNING clustering 2 points to 2 centroids: please provide at least 78 training points\nWARNING clustering 2 points to 2 centroids: please provide at least 78 training points\nWARNING clustering 2 points to 2 centroids: please provide at least 78 training points\nWARNING clustering 2 points to 2 centroids: please provide at least 78 training points\nWARNING clustering 2 points to 2 centroids: please provide at least 78 training points\nWARNING clustering 2 points to 2 centroids: please provide at least 78 training points\nWARNING clustering 2 points to 2 centroids: please provide at least 78 training points\nWARNING clustering 2 points to 2 centroids: please provide at least 78 training points\nWARNING clustering 2 points to 2 centroids: please provide at least 78 training points\nWARNING clustering 2 points to 2 centroids: please provide at least 78 training points\nWARNING clustering 2 points to 2 centroids: please provide at least 78 training points\nWARNING clustering 2 points to 2 centroids: please provide at least 78 training points\nWARNING clustering 2 points to 2 centroids: please provide at least 78 training points\nWARNING clustering 2 points to 2 centroids: please provide at least 78 training points\nWARNING clustering 2 points to 2 centroids: please provide at least 78 training points\nWARNING clustering 2 points to 2 centroids: please provide at least 78 training points\nWARNING clustering 2 points to 2 centroids: please provide at least 78 training points\nWARNING clustering 2 points to 2 centroids: please provide at least 78 training points\nWARNING clustering 2 points to 2 centroids: please provide at least 78 training points\nWARNING clustering 2 points to 2 centroids: please provide at least 78 training points\nWARNING clustering 2 points to 2 centroids: please provide at least 78 training points\nWARNING clustering 2 points to 2 centroids: please provide at least 78 training points\nWARNING clustering 2 points to 2 centroids: please provide at least 78 training points\nWARNING clustering 2 points to 2 centroids: please provide at least 78 training points\nWARNING clustering 2 points to 2 centroids: please provide at least 78 training points\nWARNING clustering 2 points to 2 centroids: please provide at least 78 training points\nWARNING clustering 2 points to 2 centroids: please provide at least 78 training points\nWARNING clustering 2 points to 2 centroids: please provide at least 78 training points\nWARNING clustering 2 points to 2 centroids: please provide at least 78 training points\nWARNING clustering 2 points to 2 centroids: please provide at least 78 training points\nWARNING clustering 2 points to 2 centroids: please provide at least 78 training points\nWARNING clustering 2 points to 2 centroids: please provide at least 78 training points\nWARNING clustering 2 points to 2 centroids: please provide at least 78 training points\nWARNING clustering 2 points to 2 centroids: please provide at least 78 training points\nWARNING clustering 2 points to 2 centroids: please provide at least 78 training points\nWARNING clustering 2 points to 2 centroids: please provide at least 78 training points\nWARNING clustering 2 points to 2 centroids: please provide at least 78 training points\nWARNING clustering 2 points to 2 centroids: please provide at least 78 training points\nWARNING clustering 2 points to 2 centroids: please provide at least 78 training points\nWARNING clustering 2 points to 2 centroids: please provide at least 78 training points\nWARNING clustering 2 points to 2 centroids: please provide at least 78 training points\nWARNING clustering 2 points to 2 centroids: please provide at least 78 training points\nWARNING clustering 2 points to 2 centroids: please provide at least 78 training points\nWARNING clustering 2 points to 2 centroids: please provide at least 78 training points\nWARNING clustering 2 points to 2 centroids: please provide at least 78 training points\nWARNING clustering 2 points to 2 centroids: please provide at least 78 training points\nWARNING clustering 2 points to 2 centroids: please provide at least 78 training points\nWARNING clustering 2 points to 2 centroids: please provide at least 78 training points\nWARNING clustering 2 points to 2 centroids: please provide at least 78 training points\nWARNING clustering 2 points to 2 centroids: please provide at least 78 training points\nWARNING clustering 2 points to 2 centroids: please provide at least 78 training points\nWARNING clustering 2 points to 2 centroids: please provide at least 78 training points\nWARNING clustering 2 points to 2 centroids: please provide at least 78 training points\nWARNING clustering 2 points to 2 centroids: please provide at least 78 training points\nWARNING clustering 2 points to 2 centroids: please provide at least 78 training points\nWARNING clustering 2 points to 2 centroids: please provide at least 78 training points\nWARNING clustering 2 points to 2 centroids: please provide at least 78 training points\nWARNING clustering 2 points to 2 centroids: please provide at least 78 training points\nWARNING clustering 2 points to 2 centroids: please provide at least 78 training points\nWARNING clustering 2 points to 2 centroids: please provide at least 78 training points\nWARNING clustering 2 points to 2 centroids: please provide at least 78 training points\nWARNING clustering 2 points to 2 centroids: please provide at least 78 training points\nWARNING clustering 2 points to 2 centroids: please provide at least 78 training points\nWARNING clustering 2 points to 2 centroids: please provide at least 78 training points\nWARNING clustering 2 points to 2 centroids: please provide at least 78 training points\nWARNING clustering 2 points to 2 centroids: please provide at least 78 training points\nWARNING clustering 2 points to 2 centroids: please provide at least 78 training points\nWARNING clustering 2 points to 2 centroids: please provide at least 78 training points\nWARNING clustering 2 points to 2 centroids: please provide at least 78 training points\nWARNING clustering 2 points to 2 centroids: please provide at least 78 training points\nWARNING clustering 2 points to 2 centroids: please provide at least 78 training points\nWARNING clustering 2 points to 2 centroids: please provide at least 78 training points\nWARNING clustering 2 points to 2 centroids: please provide at least 78 training points\nWARNING clustering 2 points to 2 centroids: please provide at least 78 training points\nWARNING clustering 2 points to 2 centroids: please provide at least 78 training points\nWARNING clustering 2 points to 2 centroids: please provide at least 78 training points\nWARNING clustering 2 points to 2 centroids: please provide at least 78 training points\nWARNING clustering 2 points to 2 centroids: please provide at least 78 training points\nWARNING clustering 2 points to 2 centroids: please provide at least 78 training points\nWARNING clustering 2 points to 2 centroids: please provide at least 78 training points\nWARNING clustering 2 points to 2 centroids: please provide at least 78 training points\nWARNING clustering 2 points to 2 centroids: please provide at least 78 training points\nWARNING clustering 2 points to 2 centroids: please provide at least 78 training points\nWARNING clustering 2 points to 2 centroids: please provide at least 78 training points\nWARNING clustering 2 points to 2 centroids: please provide at least 78 training points\nWARNING clustering 2 points to 2 centroids: please provide at least 78 training points\nWARNING clustering 2 points to 2 centroids: please provide at least 78 training points\nWARNING clustering 2 points to 2 centroids: please provide at least 78 training points\nWARNING clustering 2 points to 2 centroids: please provide at least 78 training points\nWARNING clustering 2 points to 2 centroids: please provide at least 78 training points\nWARNING clustering 2 points to 2 centroids: please provide at least 78 training points\nWARNING clustering 2 points to 2 centroids: please provide at least 78 training points\nWARNING clustering 2 points to 2 centroids: please provide at least 78 training points\nWARNING clustering 2 points to 2 centroids: please provide at least 78 training points\nWARNING clustering 2 points to 2 centroids: please provide at least 78 training points\nWARNING clustering 2 points to 2 centroids: please provide at least 78 training points\nWARNING clustering 2 points to 2 centroids: please provide at least 78 training points\nWARNING clustering 2 points to 2 centroids: please provide at least 78 training points\nWARNING clustering 2 points to 2 centroids: please provide at least 78 training points\nWARNING clustering 2 points to 2 centroids: please provide at least 78 training points\nWARNING clustering 2 points to 2 centroids: please provide at least 78 training points\nWARNING clustering 2 points to 2 centroids: please provide at least 78 training points\nWARNING clustering 2 points to 2 centroids: please provide at least 78 training points\nWARNING clustering 2 points to 2 centroids: please provide at least 78 training points\nWARNING clustering 2 points to 2 centroids: please provide at least 78 training points\nWARNING clustering 2 points to 2 centroids: please provide at least 78 training points\nWARNING clustering 2 points to 2 centroids: please provide at least 78 training points\nWARNING clustering 2 points to 2 centroids: please provide at least 78 training points\nWARNING clustering 2 points to 2 centroids: please provide at least 78 training points\nWARNING clustering 2 points to 2 centroids: please provide at least 78 training points\nWARNING clustering 2 points to 2 centroids: please provide at least 78 training points\nWARNING clustering 2 points to 2 centroids: please provide at least 78 training points\nWARNING clustering 2 points to 2 centroids: please provide at least 78 training points\nWARNING clustering 2 points to 2 centroids: please provide at least 78 training points\nWARNING clustering 2 points to 2 centroids: please provide at least 78 training points\nWARNING clustering 2 points to 2 centroids: please provide at least 78 training points\nWARNING clustering 2 points to 2 centroids: please provide at least 78 training points\nWARNING clustering 2 points to 2 centroids: please provide at least 78 training points\nWARNING clustering 2 points to 2 centroids: please provide at least 78 training points\nWARNING clustering 2 points to 2 centroids: please provide at least 78 training points\nWARNING clustering 2 points to 2 centroids: please provide at least 78 training points\nWARNING clustering 2 points to 2 centroids: please provide at least 78 training points\nWARNING clustering 2 points to 2 centroids: please provide at least 78 training points\nWARNING clustering 2 points to 2 centroids: please provide at least 78 training points\nWARNING clustering 2 points to 2 centroids: please provide at least 78 training points\nWARNING clustering 2 points to 2 centroids: please provide at least 78 training points\nWARNING clustering 2 points to 2 centroids: please provide at least 78 training points\nWARNING clustering 2 points to 2 centroids: please provide at least 78 training points\nWARNING clustering 2 points to 2 centroids: please provide at least 78 training points\nWARNING clustering 2 points to 2 centroids: please provide at least 78 training points\nWARNING clustering 2 points to 2 centroids: please provide at least 78 training points\nWARNING clustering 2 points to 2 centroids: please provide at least 78 training points\nWARNING clustering 2 points to 2 centroids: please provide at least 78 training points\nWARNING clustering 2 points to 2 centroids: please provide at least 78 training points\nWARNING clustering 2 points to 2 centroids: please provide at least 78 training points\nWARNING clustering 2 points to 2 centroids: please provide at least 78 training points\nWARNING clustering 2 points to 2 centroids: please provide at least 78 training points\nWARNING clustering 2 points to 2 centroids: please provide at least 78 training points\nWARNING clustering 2 points to 2 centroids: please provide at least 78 training points\nWARNING clustering 2 points to 2 centroids: please provide at least 78 training points\nWARNING clustering 2 points to 2 centroids: please provide at least 78 training points\nWARNING clustering 2 points to 2 centroids: please provide at least 78 training points\nWARNING clustering 2 points to 2 centroids: please provide at least 78 training points\nWARNING clustering 2 points to 2 centroids: please provide at least 78 training points\nWARNING clustering 2 points to 2 centroids: please provide at least 78 training points\nWARNING clustering 2 points to 2 centroids: please provide at least 78 training points\nWARNING clustering 2 points to 2 centroids: please provide at least 78 training points\nWARNING clustering 2 points to 2 centroids: please provide at least 78 training points\nWARNING clustering 2 points to 2 centroids: please provide at least 78 training points\nWARNING clustering 2 points to 2 centroids: please provide at least 78 training points\nWARNING clustering 2 points to 2 centroids: please provide at least 78 training points\nWARNING clustering 2 points to 2 centroids: please provide at least 78 training points\nWARNING clustering 2 points to 2 centroids: please provide at least 78 training points\nWARNING clustering 2 points to 2 centroids: please provide at least 78 training points\nWARNING clustering 2 points to 2 centroids: please provide at least 78 training points\nWARNING clustering 2 points to 2 centroids: please provide at least 78 training points\nWARNING clustering 2 points to 2 centroids: please provide at least 78 training points\nWARNING clustering 2 points to 2 centroids: please provide at least 78 training points\nWARNING clustering 2 points to 2 centroids: please provide at least 78 training points\nWARNING clustering 2 points to 2 centroids: please provide at least 78 training points\nWARNING clustering 2 points to 2 centroids: please provide at least 78 training points\nWARNING clustering 2 points to 2 centroids: please provide at least 78 training points\nWARNING clustering 2 points to 2 centroids: please provide at least 78 training points\nWARNING clustering 2 points to 2 centroids: please provide at least 78 training points\nWARNING clustering 2 points to 2 centroids: please provide at least 78 training points\nWARNING clustering 2 points to 2 centroids: please provide at least 78 training points\nWARNING clustering 2 points to 2 centroids: please provide at least 78 training points\nWARNING clustering 2 points to 2 centroids: please provide at least 78 training points\nWARNING clustering 2 points to 2 centroids: please provide at least 78 training points\nWARNING clustering 2 points to 2 centroids: please provide at least 78 training points\nWARNING clustering 2 points to 2 centroids: please provide at least 78 training points\nWARNING clustering 2 points to 2 centroids: please provide at least 78 training points\nWARNING clustering 2 points to 2 centroids: please provide at least 78 training points\nWARNING clustering 2 points to 2 centroids: please provide at least 78 training points\nWARNING clustering 2 points to 2 centroids: please provide at least 78 training points\nWARNING clustering 2 points to 2 centroids: please provide at least 78 training points\nWARNING clustering 2 points to 2 centroids: please provide at least 78 training points\nWARNING clustering 2 points to 2 centroids: please provide at least 78 training points\nWARNING clustering 2 points to 2 centroids: please provide at least 78 training points\nWARNING clustering 2 points to 2 centroids: please provide at least 78 training points\nWARNING clustering 2 points to 2 centroids: please provide at least 78 training points\nWARNING clustering 2 points to 2 centroids: please provide at least 78 training points\nWARNING clustering 2 points to 2 centroids: please provide at least 78 training points\nWARNING clustering 2 points to 2 centroids: please provide at least 78 training points\nWARNING clustering 2 points to 2 centroids: please provide at least 78 training points\nWARNING clustering 2 points to 2 centroids: please provide at least 78 training points\nWARNING clustering 2 points to 2 centroids: please provide at least 78 training points\nWARNING clustering 2 points to 2 centroids: please provide at least 78 training points\nWARNING clustering 2 points to 2 centroids: please provide at least 78 training points\nWARNING clustering 2 points to 2 centroids: please provide at least 78 training points\nWARNING clustering 2 points to 2 centroids: please provide at least 78 training points\nWARNING clustering 2 points to 2 centroids: please provide at least 78 training points\nWARNING clustering 2 points to 2 centroids: please provide at least 78 training points\nWARNING clustering 2 points to 2 centroids: please provide at least 78 training points\nWARNING clustering 2 points to 2 centroids: please provide at least 78 training points\nWARNING clustering 2 points to 2 centroids: please provide at least 78 training points\nWARNING clustering 2 points to 2 centroids: please provide at least 78 training points\nWARNING clustering 2 points to 2 centroids: please provide at least 78 training points\nWARNING clustering 2 points to 2 centroids: please provide at least 78 training points\nWARNING clustering 2 points to 2 centroids: please provide at least 78 training points\nWARNING clustering 2 points to 2 centroids: please provide at least 78 training points\nWARNING clustering 2 points to 2 centroids: please provide at least 78 training points\nWARNING clustering 2 points to 2 centroids: please provide at least 78 training points\nWARNING clustering 2 points to 2 centroids: please provide at least 78 training points\nWARNING clustering 2 points to 2 centroids: please provide at least 78 training points\nWARNING clustering 2 points to 2 centroids: please provide at least 78 training points\nWARNING clustering 2 points to 2 centroids: please provide at least 78 training points\nWARNING clustering 2 points to 2 centroids: please provide at least 78 training points\nWARNING clustering 2 points to 2 centroids: please provide at least 78 training points\nWARNING clustering 2 points to 2 centroids: please provide at least 78 training points\nWARNING clustering 2 points to 2 centroids: please provide at least 78 training points\nWARNING clustering 2 points to 2 centroids: please provide at least 78 training points\nWARNING clustering 2 points to 2 centroids: please provide at least 78 training points\nWARNING clustering 2 points to 2 centroids: please provide at least 78 training points\nWARNING clustering 2 points to 2 centroids: please provide at least 78 training points\nWARNING clustering 2 points to 2 centroids: please provide at least 78 training points\nWARNING clustering 2 points to 2 centroids: please provide at least 78 training points\nWARNING clustering 2 points to 2 centroids: please provide at least 78 training points\nWARNING clustering 2 points to 2 centroids: please provide at least 78 training points\nWARNING clustering 2 points to 2 centroids: please provide at least 78 training points\nWARNING clustering 2 points to 2 centroids: please provide at least 78 training points\nWARNING clustering 2 points to 2 centroids: please provide at least 78 training points\nWARNING clustering 2 points to 2 centroids: please provide at least 78 training points\nWARNING clustering 2 points to 2 centroids: please provide at least 78 training points\nWARNING clustering 2 points to 2 centroids: please provide at least 78 training points\nWARNING clustering 2 points to 2 centroids: please provide at least 78 training points\nWARNING clustering 2 points to 2 centroids: please provide at least 78 training points\nWARNING clustering 2 points to 2 centroids: please provide at least 78 training points\nWARNING clustering 2 points to 2 centroids: please provide at least 78 training points\nWARNING clustering 2 points to 2 centroids: please provide at least 78 training points\nWARNING clustering 2 points to 2 centroids: please provide at least 78 training points\nWARNING clustering 2 points to 2 centroids: please provide at least 78 training points\nWARNING clustering 2 points to 2 centroids: please provide at least 78 training points\nWARNING clustering 2 points to 2 centroids: please provide at least 78 training points\nWARNING clustering 2 points to 2 centroids: please provide at least 78 training points\nWARNING clustering 2 points to 2 centroids: please provide at least 78 training points\nWARNING clustering 2 points to 2 centroids: please provide at least 78 training points\nWARNING clustering 2 points to 2 centroids: please provide at least 78 training points\nWARNING clustering 2 points to 2 centroids: please provide at least 78 training points\nWARNING clustering 2 points to 2 centroids: please provide at least 78 training points\nWARNING clustering 2 points to 2 centroids: please provide at least 78 training points\nWARNING clustering 2 points to 2 centroids: please provide at least 78 training points\nWARNING clustering 2 points to 2 centroids: please provide at least 78 training points\nWARNING clustering 2 points to 2 centroids: please provide at least 78 training points\nWARNING clustering 2 points to 2 centroids: please provide at least 78 training points\nWARNING clustering 2 points to 2 centroids: please provide at least 78 training points\nWARNING clustering 2 points to 2 centroids: please provide at least 78 training points\nWARNING clustering 2 points to 2 centroids: please provide at least 78 training points\nWARNING clustering 2 points to 2 centroids: please provide at least 78 training points\nWARNING clustering 2 points to 2 centroids: please provide at least 78 training points\nWARNING clustering 2 points to 2 centroids: please provide at least 78 training points\nWARNING clustering 2 points to 2 centroids: please provide at least 78 training points\nWARNING clustering 2 points to 2 centroids: please provide at least 78 training points\nWARNING clustering 2 points to 2 centroids: please provide at least 78 training points\nWARNING clustering 2 points to 2 centroids: please provide at least 78 training points\nWARNING clustering 2 points to 2 centroids: please provide at least 78 training points\nWARNING clustering 2 points to 2 centroids: please provide at least 78 training points\nWARNING clustering 2 points to 2 centroids: please provide at least 78 training points\nWARNING clustering 2 points to 2 centroids: please provide at least 78 training points\nWARNING clustering 2 points to 2 centroids: please provide at least 78 training points\nWARNING clustering 2 points to 2 centroids: please provide at least 78 training points\nWARNING clustering 2 points to 2 centroids: please provide at least 78 training points\nWARNING clustering 2 points to 2 centroids: please provide at least 78 training points\nWARNING clustering 2 points to 2 centroids: please provide at least 78 training points\nWARNING clustering 2 points to 2 centroids: please provide at least 78 training points\nWARNING clustering 2 points to 2 centroids: please provide at least 78 training points\nWARNING clustering 2 points to 2 centroids: please provide at least 78 training points\nWARNING clustering 2 points to 2 centroids: please provide at least 78 training points\nWARNING clustering 2 points to 2 centroids: please provide at least 78 training points\nWARNING clustering 2 points to 2 centroids: please provide at least 78 training points\nWARNING clustering 2 points to 2 centroids: please provide at least 78 training points\nWARNING clustering 2 points to 2 centroids: please provide at least 78 training points\nWARNING clustering 2 points to 2 centroids: please provide at least 78 training points\nWARNING clustering 2 points to 2 centroids: please provide at least 78 training points\nWARNING clustering 2 points to 2 centroids: please provide at least 78 training points\nWARNING clustering 2 points to 2 centroids: please provide at least 78 training points\nWARNING clustering 2 points to 2 centroids: please provide at least 78 training points\nWARNING clustering 2 points to 2 centroids: please provide at least 78 training points\nWARNING clustering 2 points to 2 centroids: please provide at least 78 training points\nWARNING clustering 2 points to 2 centroids: please provide at least 78 training points\nWARNING clustering 2 points to 2 centroids: please provide at least 78 training points\nWARNING clustering 2 points to 2 centroids: please provide at least 78 training points\nWARNING clustering 2 points to 2 centroids: please provide at least 78 training points\nWARNING clustering 2 points to 2 centroids: please provide at least 78 training points\nWARNING clustering 2 points to 2 centroids: please provide at least 78 training points\nWARNING clustering 2 points to 2 centroids: please provide at least 78 training points\nWARNING clustering 2 points to 2 centroids: please provide at least 78 training points\nWARNING clustering 2 points to 2 centroids: please provide at least 78 training points\nWARNING clustering 2 points to 2 centroids: please provide at least 78 training points\nWARNING clustering 2 points to 2 centroids: please provide at least 78 training points\nWARNING clustering 2 points to 2 centroids: please provide at least 78 training points\nWARNING clustering 2 points to 2 centroids: please provide at least 78 training points\nWARNING clustering 2 points to 2 centroids: please provide at least 78 training points\nWARNING clustering 2 points to 2 centroids: please provide at least 78 training points\nWARNING clustering 2 points to 2 centroids: please provide at least 78 training points\nWARNING clustering 2 points to 2 centroids: please provide at least 78 training points\nWARNING clustering 2 points to 2 centroids: please provide at least 78 training points\nWARNING clustering 2 points to 2 centroids: please provide at least 78 training points\nWARNING clustering 2 points to 2 centroids: please provide at least 78 training points\nWARNING clustering 2 points to 2 centroids: please provide at least 78 training points\nWARNING clustering 2 points to 2 centroids: please provide at least 78 training points\nWARNING clustering 2 points to 2 centroids: please provide at least 78 training points\nWARNING clustering 2 points to 2 centroids: please provide at least 78 training points\nWARNING clustering 2 points to 2 centroids: please provide at least 78 training points\nWARNING clustering 2 points to 2 centroids: please provide at least 78 training points\nWARNING clustering 2 points to 2 centroids: please provide at least 78 training points\nWARNING clustering 2 points to 2 centroids: please provide at least 78 training points\nWARNING clustering 2 points to 2 centroids: please provide at least 78 training points\nWARNING clustering 2 points to 2 centroids: please provide at least 78 training points\nWARNING clustering 2 points to 2 centroids: please provide at least 78 training points\nWARNING clustering 2 points to 2 centroids: please provide at least 78 training points\nWARNING clustering 2 points to 2 centroids: please provide at least 78 training points\nWARNING clustering 2 points to 2 centroids: please provide at least 78 training points\nWARNING clustering 2 points to 2 centroids: please provide at least 78 training points\nWARNING clustering 2 points to 2 centroids: please provide at least 78 training points\nWARNING clustering 2 points to 2 centroids: please provide at least 78 training points\nWARNING clustering 2 points to 2 centroids: please provide at least 78 training points\nWARNING clustering 2 points to 2 centroids: please provide at least 78 training points\nWARNING clustering 2 points to 2 centroids: please provide at least 78 training points\nWARNING clustering 2 points to 2 centroids: please provide at least 78 training points\nWARNING clustering 2 points to 2 centroids: please provide at least 78 training points\nWARNING clustering 2 points to 2 centroids: please provide at least 78 training points\nWARNING clustering 2 points to 2 centroids: please provide at least 78 training points\nWARNING clustering 2 points to 2 centroids: please provide at least 78 training points\nWARNING clustering 2 points to 2 centroids: please provide at least 78 training points\nWARNING clustering 2 points to 2 centroids: please provide at least 78 training points\nWARNING clustering 2 points to 2 centroids: please provide at least 78 training points\nWARNING clustering 2 points to 2 centroids: please provide at least 78 training points\nWARNING clustering 2 points to 2 centroids: please provide at least 78 training points\nWARNING clustering 2 points to 2 centroids: please provide at least 78 training points\nWARNING clustering 2 points to 2 centroids: please provide at least 78 training points\nWARNING clustering 2 points to 2 centroids: please provide at least 78 training points\nWARNING clustering 2 points to 2 centroids: please provide at least 78 training points\nWARNING clustering 2 points to 2 centroids: please provide at least 78 training points\nWARNING clustering 2 points to 2 centroids: please provide at least 78 training points\nWARNING clustering 2 points to 2 centroids: please provide at least 78 training points\nWARNING clustering 2 points to 2 centroids: please provide at least 78 training points\nWARNING clustering 2 points to 2 centroids: please provide at least 78 training points\nWARNING clustering 2 points to 2 centroids: please provide at least 78 training points\nWARNING clustering 2 points to 2 centroids: please provide at least 78 training points\nWARNING clustering 2 points to 2 centroids: please provide at least 78 training points\nWARNING clustering 2 points to 2 centroids: please provide at least 78 training points\nWARNING clustering 2 points to 2 centroids: please provide at least 78 training points\nWARNING clustering 2 points to 2 centroids: please provide at least 78 training points\nWARNING clustering 2 points to 2 centroids: please provide at least 78 training points\nWARNING clustering 2 points to 2 centroids: please provide at least 78 training points\nWARNING clustering 2 points to 2 centroids: please provide at least 78 training points\nWARNING clustering 2 points to 2 centroids: please provide at least 78 training points\nWARNING clustering 2 points to 2 centroids: please provide at least 78 training points\n",
          "output_type": "stream"
        }
      ]
    },
    {
      "cell_type": "markdown",
      "source": [
        "# **Model Training**"
      ],
      "metadata": {
        "papermill": {
          "duration": 0.056259,
          "end_time": "2023-12-04T14:52:51.784067",
          "exception": false,
          "start_time": "2023-12-04T14:52:51.727808",
          "status": "completed"
        },
        "tags": [],
        "id": "qW1aN4ozRecE"
      }
    },
    {
      "cell_type": "markdown",
      "source": [
        "# **LGB**"
      ],
      "metadata": {
        "papermill": {
          "duration": 0.00886,
          "end_time": "2023-12-04T14:52:51.802076",
          "exception": false,
          "start_time": "2023-12-04T14:52:51.793216",
          "status": "completed"
        },
        "tags": [],
        "id": "qTc3I-5ORecF"
      }
    },
    {
      "cell_type": "code",
      "source": [
        "\n",
        "if LGB:\n",
        "    import numpy as np\n",
        "    import lightgbm as lgb\n",
        "\n",
        "    lgb_params = {\n",
        "        \"objective\": \"mae\",\n",
        "        \"n_estimators\": 5500,\n",
        "        \"num_leaves\": 200,\n",
        "        \"subsample\": 0.6,\n",
        "        \"colsample_bytree\": 0.8,\n",
        "#         \"learning_rate\": 0.00871,\n",
        "        \"learning_rate\": 0.01,\n",
        "        'max_depth': 11,\n",
        "        \"n_jobs\": 4,\n",
        "        \"device\": \"gpu\",\n",
        "        \"verbosity\": -1,\n",
        "        \"importance_type\": \"gain\",\n",
        "#         \"reg_alpha\": 0.1,\n",
        "        \"reg_alpha\": 0.2,\n",
        "        \"reg_lambda\": 3.25\n",
        "    }\n",
        "\n",
        "    feature_columns = list(df_train_feats.columns)\n",
        "    print(f\"Features = {len(feature_columns)}\")\n",
        "    #print(f\"Feature length = {len(feature_columns)}\")\n",
        "\n",
        "    num_folds = 5\n",
        "    fold_size = 480 // num_folds\n",
        "    gap = 5\n",
        "\n",
        "    models = []\n",
        "    models_cbt = []\n",
        "    scores = []\n",
        "\n",
        "    model_save_path = 'modelitos_para_despues'\n",
        "    if not os.path.exists(model_save_path):\n",
        "        os.makedirs(model_save_path)\n",
        "\n",
        "    date_ids = df_train['date_id'].values\n",
        "\n",
        "    for i in range(num_folds):\n",
        "        start = i * fold_size\n",
        "        end = start + fold_size\n",
        "        if i < num_folds - 1:  # No need to purge after the last fold\n",
        "            purged_start = end - 2\n",
        "            purged_end = end + gap + 2\n",
        "            train_indices = (date_ids >= start) & (date_ids < purged_start) | (date_ids > purged_end)\n",
        "        else:\n",
        "            train_indices = (date_ids >= start) & (date_ids < end)\n",
        "\n",
        "        test_indices = (date_ids >= end) & (date_ids < end + fold_size)\n",
        "\n",
        "        gc.collect()\n",
        "\n",
        "        df_fold_train = df_train_feats[train_indices]\n",
        "        df_fold_train_target = df_train['target'][train_indices]\n",
        "        df_fold_valid = df_train_feats[test_indices]\n",
        "        df_fold_valid_target = df_train['target'][test_indices]\n",
        "\n",
        "        print(f\"Fold {i+1} Model Training\")\n",
        "\n",
        "        # Train a LightGBM model for the current fold\n",
        "        lgb_model = lgb.LGBMRegressor(**lgb_params)\n",
        "        lgb_model.fit(\n",
        "            df_fold_train[feature_columns],\n",
        "            df_fold_train_target,\n",
        "            eval_set=[(df_fold_valid[feature_columns], df_fold_valid_target)],\n",
        "            callbacks=[\n",
        "                lgb.callback.early_stopping(stopping_rounds=100),\n",
        "                lgb.callback.log_evaluation(period=100),\n",
        "            ],\n",
        "        )\n",
        "\n",
        "\n",
        "\n",
        "        models.append(lgb_model)\n",
        "        # Save the model to a file\n",
        "        model_filename = os.path.join(model_save_path, f'doblez_{i+1}.txt')\n",
        "        lgb_model.booster_.save_model(model_filename)\n",
        "        print(f\"Model for fold {i+1} saved to {model_filename}\")\n",
        "\n",
        "        # Evaluate model performance on the validation set\n",
        "        #------------LGB--------------#\n",
        "        fold_predictions = lgb_model.predict(df_fold_valid[feature_columns])\n",
        "        fold_score = mean_absolute_error(fold_predictions, df_fold_valid_target)\n",
        "        scores.append(fold_score)\n",
        "        print(f\":LGB Fold {i+1} MAE: {fold_score}\")\n",
        "\n",
        "        del df_fold_train, df_fold_train_target, df_fold_valid, df_fold_valid_target\n",
        "        gc.collect()\n",
        "\n",
        "    # Calculate the average best iteration from all regular folds\n",
        "    average_best_iteration = int(np.mean([model.best_iteration_ for model in models]))\n",
        "\n",
        "    # Update the lgb_params with the average best iteration\n",
        "    final_model_params = lgb_params.copy()\n",
        "\n",
        "    # final_model_params['n_estimators'] = average_best_iteration\n",
        "    # print(f\"Training final model with average best iteration: {average_best_iteration}\")\n",
        "\n",
        "    # Train the final model on the entire dataset\n",
        "    num_model = 1\n",
        "\n",
        "    for i in range(num_model):\n",
        "        final_model = lgb.LGBMRegressor(**final_model_params)\n",
        "        final_model.fit(\n",
        "            df_train_feats[feature_columns],\n",
        "            df_train['target'],\n",
        "            callbacks=[\n",
        "                lgb.callback.log_evaluation(period=100),\n",
        "            ],\n",
        "        )\n",
        "        # Append the final model to the list of models\n",
        "        models.append(final_model)\n"
      ],
      "metadata": {
        "papermill": {
          "duration": 12143.238758,
          "end_time": "2023-12-04T18:15:15.049809",
          "exception": false,
          "start_time": "2023-12-04T14:52:51.811051",
          "status": "completed"
        },
        "tags": [],
        "trusted": true,
        "id": "pSZSOvL2RecF"
      },
      "execution_count": null,
      "outputs": []
    },
    {
      "cell_type": "markdown",
      "source": [
        "# **Submission**"
      ],
      "metadata": {
        "papermill": {
          "duration": 0.028109,
          "end_time": "2023-12-04T18:15:15.499516",
          "exception": false,
          "start_time": "2023-12-04T18:15:15.471407",
          "status": "completed"
        },
        "tags": [],
        "id": "Dwaj2KMiRecF"
      }
    },
    {
      "cell_type": "code",
      "source": [
        "def zero_sum(prices, volumes):\n",
        "    std_error = np.sqrt(volumes)\n",
        "    step = np.sum(prices) / np.sum(std_error)\n",
        "    out = prices - std_error * step\n",
        "    return out\n",
        "\n",
        "if is_infer:\n",
        "    import optiver2023\n",
        "    env = optiver2023.make_env()\n",
        "    iter_test = env.iter_test()\n",
        "    counter = 0\n",
        "    y_min, y_max = -64, 64\n",
        "    qps, predictions = [], []\n",
        "    cache = pd.DataFrame()\n",
        "\n",
        "    # Weights for each fold model\n",
        "    if LGB:\n",
        "        lgb_model_weights = weighted_average(models)\n",
        "        #cbt_model_weights = weighted_average(models_cbt)\n",
        "\n",
        "    for (test, revealed_targets, sample_prediction) in iter_test:\n",
        "        now_time = time.time()\n",
        "        test.pop('row_id')\n",
        "\n",
        "        cache = pd.concat([cache, test], ignore_index=True, axis=0)\n",
        "\n",
        "        if counter > 0:\n",
        "            cache = cache.groupby(['stock_id']).tail(21).sort_values(by=['date_id', 'seconds_in_bucket', 'stock_id']).reset_index(drop=True)\n",
        "\n",
        "        feat = generate_all_features(cache)[-len(test):]\n",
        "\n",
        "        print(f\"Feat Shape is: {feat.shape}\")\n",
        "\n",
        "        # Generate predictions for each model and calculate the weighted average\n",
        "        if LGB:\n",
        "            lgb_predictions = np.zeros(len(test))\n",
        "            for model, weight in zip(models, lgb_model_weights):\n",
        "                lgb_predictions += weight * model.predict(feat[feature_columns])\n",
        "\n",
        "        predictions = lgb_predictions\n",
        "\n",
        "        #Using mean predictions rather than zero sum\n",
        "        final_predictions = predictions - np.mean(predictions)\n",
        "        clipped_predictions = np.clip(final_predictions, y_min, y_max)\n",
        "        sample_prediction['target'] = clipped_predictions\n",
        "        env.predict(sample_prediction)\n",
        "        counter += 1\n",
        "        qps.append(time.time() - now_time)\n",
        "        if counter % 10 == 0:\n",
        "            print(counter, 'qps:', np.mean(qps))\n",
        "\n",
        "    time_cost = 1.146 * np.mean(qps)\n",
        "    print(f\"The code will take approximately {np.round(time_cost, 4)} hours to reason about\")\n"
      ],
      "metadata": {
        "papermill": {
          "duration": 223.602887,
          "end_time": "2023-12-04T18:18:59.131271",
          "exception": false,
          "start_time": "2023-12-04T18:15:15.528384",
          "status": "completed"
        },
        "tags": [],
        "trusted": true,
        "id": "veC4lvXNRecG"
      },
      "execution_count": null,
      "outputs": []
    },
    {
      "cell_type": "code",
      "source": [],
      "metadata": {
        "id": "aXix9IFhRecG"
      },
      "execution_count": null,
      "outputs": []
    },
    {
      "cell_type": "code",
      "source": [],
      "metadata": {
        "id": "zJHl4xLERecG"
      },
      "execution_count": null,
      "outputs": []
    }
  ]
}